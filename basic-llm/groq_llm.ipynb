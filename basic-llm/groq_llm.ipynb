{
 "cells": [
  {
   "cell_type": "code",
   "execution_count": 3,
   "metadata": {
    "pycharm": {
     "name": "#%%\n"
    }
   },
   "outputs": [],
   "source": [
    "import os\n",
    "GROQ_KEY = \"####\"\n",
    "os.environ[\"GROQ_API_KEY\"] = GROQ_KEY"
   ]
  },
  {
   "cell_type": "code",
   "execution_count": 4,
   "metadata": {
    "pycharm": {
     "name": "#%%\n"
    }
   },
   "outputs": [],
   "source": [
    "from langchain_groq import ChatGroq\n",
    "\n",
    "llm = ChatGroq(\n",
    "    model=\"gemma2-9b-it\",\n",
    "    # temperature=0,\n",
    "    # max_tokens=None,\n",
    "    # timeout=None,\n",
    "    # max_retries=2,\n",
    ")"
   ]
  },
  {
   "cell_type": "code",
   "execution_count": 8,
   "metadata": {
    "pycharm": {
     "name": "#%%\n"
    }
   },
   "outputs": [
    {
     "data": {
      "text/plain": [
       "\"Amalie Emmy Noether[a] (23. März 1882 – 14. April 1935) war eine deutsche Mathematikerin, die bedeutende Beiträge zur abstrakten Algebra leistete. Sie bewies auch Noether's ersten und zweiten Satz, die in der mathematischen Physik fundamental sind.[4] Noether wurde von Pavel Alexandrov, Albert Einstein, Jean Dieudonné, Hermann Weyl und Norbert Wiener als die wichtigste Frau in der Geschichte der Mathematik bezeichnet.[5][6][7] Als eine der führenden Mathematikerinnen ihrer Zeit entwickelte sie Theorien über Ringe, Körper und Algebren. In der Physik erklärt Noether's Satz den Zusammenhang zwischen Symmetrie und Erhaltungssätzen.[8] \\n\\n\\nLet me know if you have any other text you'd like me to translate!\\n\""
      ]
     },
     "execution_count": 8,
     "metadata": {},
     "output_type": "execute_result"
    }
   ],
   "source": [
    "from langchain_core.prompts import ChatPromptTemplate\n",
    "from langchain_core.output_parsers import StrOutputParser\n",
    "\n",
    "prompt = ChatPromptTemplate.from_messages(\n",
    "    [\n",
    "        (\n",
    "            \"system\",\n",
    "            \"You are a helpful assistant that translates {input_language} to {output_language}.\",\n",
    "        ),\n",
    "        (\"human\", \"{input}\"),\n",
    "    ]\n",
    ")\n",
    "\n",
    "chain = prompt | llm | StrOutputParser()\n",
    "chain.invoke(\n",
    "    {\n",
    "        \"input_language\": \"English\",\n",
    "        \"output_language\": \"German\",\n",
    "        \"input\": \"Amalie Emmy Noether[a] (23 March 1882 – 14 April 1935) was a German mathematician who made many important contributions to abstract algebra. She also proved Noether's first and second theorems, which are fundamental in mathematical physics.[4] Noether was described by Pavel Alexandrov, Albert Einstein, Jean Dieudonné, Hermann Weyl and Norbert Wiener as the most important woman in the history of mathematics.[5][6][7] As one of the leading mathematicians of her time, she developed theories of rings, fields, and algebras. In physics, Noether's theorem explains the connection between symmetry and conservation laws.[8]\",\n",
    "    }\n",
    ")"
   ]
  }
 ],
 "metadata": {
  "kernelspec": {
   "display_name": "venv",
   "language": "python",
   "name": "python3"
  },
  "language_info": {
   "codemirror_mode": {
    "name": "ipython",
    "version": 3
   },
   "file_extension": ".py",
   "mimetype": "text/x-python",
   "name": "python",
   "nbconvert_exporter": "python",
   "pygments_lexer": "ipython3",
   "version": "3.10.18"
  }
 },
 "nbformat": 4,
 "nbformat_minor": 2
}