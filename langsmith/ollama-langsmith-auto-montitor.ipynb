{
 "cells": [
  {
   "cell_type": "markdown",
   "metadata": {
    "pycharm": {
     "name": "#%% md\n"
    }
   },
   "source": [
    "Connect to langchain account with api key"
   ]
  },
  {
   "cell_type": "code",
   "execution_count": 1,
   "metadata": {
    "pycharm": {
     "name": "#%%\n"
    }
   },
   "outputs": [],
   "source": [
    "import os\n",
    "from dotenv import load_dotenv\n",
    "load_dotenv()\n",
    "os.environ[\"LANGSMITH_TRACING\"] = \"true\"\n",
    "os.environ[\"LANGSMITH_ENDPOINT\"] = \"https://api.smith.langchain.com\"\n",
    "os.environ[\"LANGSMITH_API_KEY\"] = \"######\"\n",
    "os.environ[\"LANGSMITH_PROJECT\"] = \"AzureOpenAITest\"\n"
   ]
  },
  {
   "cell_type": "markdown",
   "metadata": {
    "pycharm": {
     "name": "#%% md\n"
    }
   },
   "source": [
    "Automatically monitor llm calls"
   ]
  },
  {
   "cell_type": "code",
   "execution_count": 3,
   "metadata": {
    "pycharm": {
     "name": "#%%\n"
    }
   },
   "outputs": [
    {
     "data": {
      "text/plain": [
       "'Artificial Intelligence (AI) refers to the development of computer systems that can perform tasks that would typically require human intelligence, such as:\\n\\n1. Learning: AI systems can learn from data and improve their performance over time.\\n2. Reasoning: AI systems can draw conclusions based on given information and apply rules to make decisions.\\n3. Problem-solving: AI systems can identify problems and find solutions using algorithms and logic.\\n\\nThere are many types of AI, including:\\n\\n1. **Narrow or Weak AI**: Designed to perform a specific task, such as playing chess or recognizing faces.\\n2. **General or Strong AI**: Capable of performing any intellectual task that a human can, such as reasoning, decision-making, and understanding natural language.\\n3. **Superintelligence**: Intelligence far beyond human-level intelligence, which could potentially surpass human capabilities in many areas.\\n\\nAI can be achieved through various approaches, including:\\n\\n1. **Machine Learning (ML)**: AI systems learn from data using algorithms, such as neural networks or decision trees.\\n2. **Deep Learning (DL)**: A subfield of ML that uses complex neural networks to analyze large datasets.\\n3. **Rule-Based Systems**: AI systems use pre-defined rules and logic to make decisions.\\n\\nAI has many applications across various industries, including:\\n\\n1. **Healthcare**: AI-powered diagnosis, patient monitoring, and personalized medicine.\\n2. **Finance**: AI-driven trading, risk analysis, and financial forecasting.\\n3. **Customer Service**: Chatbots and virtual assistants that can understand and respond to customer inquiries.\\n4. **Manufacturing**: AI-optimized production processes, quality control, and predictive maintenance.\\n\\nAs AI continues to evolve, it has the potential to revolutionize many aspects of our lives, from healthcare and education to transportation and entertainment.\\n\\nI hope this helps you understand what AI is!'"
      ]
     },
     "execution_count": 3,
     "metadata": {},
     "output_type": "execute_result"
    }
   ],
   "source": [
    "from langchain_ollama.llms import OllamaLLM\n",
    "model = OllamaLLM(model=\"llama3:8b\")\n",
    "model.invoke(\"What is AI?\")"
   ]
  }
 ],
 "metadata": {
  "kernelspec": {
   "display_name": "venv",
   "language": "python",
   "name": "python3"
  },
  "language_info": {
   "codemirror_mode": {
    "name": "ipython",
    "version": 3
   },
   "file_extension": ".py",
   "mimetype": "text/x-python",
   "name": "python",
   "nbconvert_exporter": "python",
   "pygments_lexer": "ipython3",
   "version": "3.10.18"
  }
 },
 "nbformat": 4,
 "nbformat_minor": 2
}