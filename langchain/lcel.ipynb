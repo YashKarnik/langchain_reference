{
 "cells": [
  {
   "cell_type": "code",
   "execution_count": 43,
   "metadata": {
    "pycharm": {
     "name": "#%%\n"
    }
   },
   "outputs": [
    {
     "data": {
      "text/plain": [
       "\"LangChain is an AI-powered language processing platform that enables users to generate, analyze, and refine text-based content. The platform uses a combination of natural language processing (NLP), machine learning, and human curation to help users create high-quality written content.\\n\\nHere are some key features and applications of LangChain:\\n\\n1. **Content Generation**: LangChain can generate text based on user input, such as prompts, topics, or styles. It can also create content in various formats, like articles, blog posts, social media posts, or even entire books.\\n2. **Text Analysis**: The platform offers advanced analytics capabilities to help users understand their content better. This includes features like sentiment analysis, entity recognition, and topic modeling.\\n3. **Content Refinement**: LangChain's AI engine can refine existing text-based content by suggesting improvements in terms of clarity, coherence, and style.\\n4. **Collaboration**: The platform allows multiple users to collaborate on content creation, with features like real-time commenting and version control.\\n\\nLangChain is designed for various industries and use cases, including:\\n\\n1. **Content Marketing**: LangChain can help businesses generate high-quality blog posts, social media content, or email newsletters that resonate with their target audience.\\n2. **E-learning**: The platform can be used to create interactive educational content, such as quizzes, flashcards, or entire courses.\\n3. **Research and Writing Assistance**: LangChain's AI engine can assist researchers and writers in generating ideas, organizing research papers, or even writing the first draft of a manuscript.\\n\\nOverall, LangChain is an innovative language processing platform that aims to streamline the content creation process, making it faster, more efficient, and more effective for users.\""
      ]
     },
     "execution_count": 43,
     "metadata": {},
     "output_type": "execute_result"
    }
   ],
   "source": [
    "from langchain_ollama import ChatOllama\n",
    "from langchain_core.output_parsers import StrOutputParser\n",
    "llm_model = ChatOllama(model=\"llama3:8b\")\n",
    "chain = llm_model | StrOutputParser()\n",
    "chain.invoke(\"What is langchain\")"
   ]
  },
  {
   "cell_type": "markdown",
   "metadata": {
    "pycharm": {
     "name": "#%% md\n"
    }
   },
   "source": [
    "### ChatPromptTemplate.from_template with inputs"
   ]
  },
  {
   "cell_type": "code",
   "execution_count": 44,
   "metadata": {
    "pycharm": {
     "name": "#%%\n"
    }
   },
   "outputs": [
    {
     "data": {
      "text/plain": [
       "'Sehr einfach, fast unbequem.'"
      ]
     },
     "execution_count": 44,
     "metadata": {},
     "output_type": "execute_result"
    }
   ],
   "source": [
    "from langchain_core.prompts import ChatPromptTemplate\n",
    "from langchain_core.output_parsers import StrOutputParser\n",
    "\n",
    "prompt_template = ChatPromptTemplate.from_template(\n",
    "    \"\"\"\n",
    "        Convert the given sentence from english to {target_language}\n",
    "        Sentence: {sentence}.\n",
    "        Respond only with the translated sentence and nothing else\n",
    "    \"\"\"\n",
    ")\n",
    "\n",
    "chain = prompt_template|llm_model | StrOutputParser()\n",
    "chain.invoke({\"target_language\":\"German\",\"sentence\":\"Super easy, barely an inconvenience\"})"
   ]
  },
  {
   "cell_type": "markdown",
   "metadata": {
    "pycharm": {
     "name": "#%% md\n"
    }
   },
   "source": [
    "ChatPromptTemplate.from_messages -> Cannot underdstand any inputs"
   ]
  },
  {
   "cell_type": "code",
   "execution_count": 45,
   "metadata": {
    "pycharm": {
     "name": "#%%\n"
    }
   },
   "outputs": [
    {
     "data": {
      "text/plain": [
       "AIMessage(content=\"I'm ready! What's the English sentence you'd like me to translate? And what's the target language?\", additional_kwargs={}, response_metadata={'model': 'llama3:8b', 'created_at': '2025-06-17T07:23:36.0963593Z', 'done': True, 'done_reason': 'stop', 'total_duration': 5477287000, 'load_duration': 22564100, 'prompt_eval_count': 32, 'prompt_eval_duration': 1498971300, 'eval_count': 24, 'eval_duration': 3931781200, 'model_name': 'llama3:8b'}, id='run--a74a19b0-e63f-43d7-9ecf-e3f2523c20f1-0', usage_metadata={'input_tokens': 32, 'output_tokens': 24, 'total_tokens': 56})"
      ]
     },
     "execution_count": 45,
     "metadata": {},
     "output_type": "execute_result"
    }
   ],
   "source": [
    "from langchain_core.prompts import ChatPromptTemplate\n",
    "from langchain_core.messages import HumanMessage, SystemMessage\n",
    "messages = [\n",
    "    SystemMessage(\n",
    "        content=\"You are to convert the given sentence from english to {target_language}\"\n",
    "    ),\n",
    "    HumanMessage(\n",
    "        content=\"{sentence}\"\n",
    "    )\n",
    "]\n",
    "prompt_template = ChatPromptTemplate.from_messages(messages)\n",
    "chain  = prompt_template|llm_model\n",
    "chain.invoke({\"target_language\":\"French\",\"sentence\":\"Super easy, barely an inconvenience\"})"
   ]
  },
  {
   "cell_type": "markdown",
   "metadata": {
    "pycharm": {
     "name": "#%% md\n"
    }
   },
   "source": [
    "ChatPromptTemplate.from_messages -> Can underdstand any inputs Method #1"
   ]
  },
  {
   "cell_type": "code",
   "execution_count": 46,
   "metadata": {
    "pycharm": {
     "name": "#%%\n"
    }
   },
   "outputs": [
    {
     "data": {
      "text/plain": [
       "'Facile comme cela, presque sans déranger.'"
      ]
     },
     "execution_count": 46,
     "metadata": {},
     "output_type": "execute_result"
    }
   ],
   "source": [
    "from langchain_core.prompts import ChatPromptTemplate\n",
    "from langchain_core.output_parsers import StrOutputParser\n",
    "from langchain_core.prompts import MessagesPlaceholder, HumanMessagePromptTemplate, SystemMessagePromptTemplate\n",
    "\n",
    "messages = [\n",
    "    SystemMessagePromptTemplate.from_template(\n",
    "        \"You are to convert the given sentence from english to {target_language}\"\n",
    "    ),\n",
    "    HumanMessagePromptTemplate.from_template(\"{sentence}\"),\n",
    "]\n",
    "prompt_template = ChatPromptTemplate.from_messages(messages)\n",
    "chain = prompt_template | llm_model | StrOutputParser()\n",
    "chain.invoke({\n",
    "    \"target_language\": \"French\",\n",
    "    \"sentence\": \"Super easy, barely an inconvenience\"\n",
    "})"
   ]
  },
  {
   "cell_type": "markdown",
   "metadata": {
    "pycharm": {
     "name": "#%% md\n"
    }
   },
   "source": [
    "ChatPromptTemplate.from_messages -> Now can take inputs underdstand any inputs"
   ]
  },
  {
   "cell_type": "code",
   "execution_count": 47,
   "metadata": {
    "pycharm": {
     "name": "#%%\n"
    }
   },
   "outputs": [
    {
     "data": {
      "text/plain": [
       "'Facilement, presque sans incommodité.'"
      ]
     },
     "execution_count": 47,
     "metadata": {},
     "output_type": "execute_result"
    }
   ],
   "source": [
    "from langchain_core.prompts import ChatPromptTemplate\n",
    "from langchain_core.output_parsers import StrOutputParser\n",
    "\n",
    "\n",
    "messages = [\n",
    "                (\"system\",\"You are to convert the given sentence from english to {target_language}\"),\n",
    "                (\"user\",\"{sentence}\")\n",
    "            ]\n",
    "prompt_template = ChatPromptTemplate.from_messages(messages)\n",
    "chain = prompt_template|llm_model | StrOutputParser()\n",
    "chain.invoke({\"target_language\":\"French\",\"sentence\":\"Super easy, barely an inconvenience\"})"
   ]
  }
 ],
 "metadata": {
  "kernelspec": {
   "display_name": "venv",
   "language": "python",
   "name": "python3"
  },
  "language_info": {
   "codemirror_mode": {
    "name": "ipython",
    "version": 3
   },
   "file_extension": ".py",
   "mimetype": "text/x-python",
   "name": "python",
   "nbconvert_exporter": "python",
   "pygments_lexer": "ipython3",
   "version": "3.10.18"
  }
 },
 "nbformat": 4,
 "nbformat_minor": 2
}