{
 "cells": [
  {
   "cell_type": "markdown",
   "metadata": {
    "pycharm": {
     "name": "#%% md\n"
    }
   },
   "source": [
    "### Web page QnA Rag"
   ]
  },
  {
   "cell_type": "markdown",
   "metadata": {
    "pycharm": {
     "name": "#%% md\n"
    }
   },
   "source": [
    "Load html content as text"
   ]
  },
  {
   "cell_type": "code",
   "execution_count": 25,
   "metadata": {
    "pycharm": {
     "name": "#%%\n"
    }
   },
   "outputs": [],
   "source": [
    "from langchain_community.document_loaders import WebBaseLoader\n",
    "page_url = \"https://learn.microsoft.com/en-us/azure/storage/common/storage-account-overview\"\n",
    "loader = WebBaseLoader(web_paths=[page_url])\n",
    "content  = loader.load()\n",
    "LLM_MODEL_NAME = \"llama3:8b\"\n",
    "EMBEDDING_MODEL_NAME=\"nomic-embed-text\""
   ]
  },
  {
   "cell_type": "markdown",
   "metadata": {
    "pycharm": {
     "name": "#%% md\n"
    }
   },
   "source": [
    "Document chunking"
   ]
  },
  {
   "cell_type": "code",
   "execution_count": 26,
   "metadata": {
    "pycharm": {
     "name": "#%%\n"
    }
   },
   "outputs": [],
   "source": [
    "from langchain_text_splitters import RecursiveCharacterTextSplitter\n",
    "text_splitter = RecursiveCharacterTextSplitter(chunk_size=1000, chunk_overlap=80)\n",
    "texts = text_splitter.split_documents(content)"
   ]
  },
  {
   "cell_type": "markdown",
   "metadata": {
    "pycharm": {
     "name": "#%% md\n"
    }
   },
   "source": [
    "Vector store initialization & similarity search"
   ]
  },
  {
   "cell_type": "code",
   "execution_count": 27,
   "metadata": {
    "pycharm": {
     "name": "#%%\n"
    }
   },
   "outputs": [
    {
     "data": {
      "text/plain": [
       "[(Document(id='1af2ae71-f41f-45f2-adfa-43f1fff6daf0', metadata={'source': 'https://learn.microsoft.com/en-us/azure/storage/common/storage-account-overview', 'title': 'Storage account overview - Azure Storage | Microsoft Learn', 'description': 'Learn about the different types of storage accounts in Azure Storage. Review account naming, performance tiers, access tiers, redundancy, encryption, endpoints, and more.', 'language': 'en-us'}, page_content=\"Storage account overview\\n\\n\\n\\n\\n\\n\\t\\t\\t\\t2025-03-04\\n\\t\\t\\t\\n\\n\\n\\n\\n\\n\\n\\n\\nFeedback\\n\\n\\n\\n\\n\\n\\t\\t\\t\\tIn this article\\n\\t\\t\\t\\n\\nAn Azure storage account contains all of your Azure Storage data objects: blobs, files, queues, and tables. The storage account provides a unique namespace for your Azure Storage data that's accessible from anywhere in the world over HTTP or HTTPS. Data in your storage account is durable and highly available, secure, and massively scalable.\\nTo learn how to create an Azure Storage account, see Create a storage account.\\nTypes of storage accounts\\nAzure Storage offers several types of storage accounts. Each type supports different features and has its own pricing model.\\nThe following table describes the types of storage accounts recommended by Microsoft for most scenarios. All of these use the Azure Resource Manager deployment model.\\n\\n\\n\\nType of storage account\\nSupported storage services\\nRedundancy options\\nUsage\"),\n",
       "  np.float32(0.6684917)),\n",
       " (Document(id='c4d5377d-0f57-4d2f-8e9c-437aa5b72dbe', metadata={'source': 'https://learn.microsoft.com/en-us/azure/storage/common/storage-account-overview', 'title': 'Storage account overview - Azure Storage | Microsoft Learn', 'description': 'Learn about the different types of storage accounts in Azure Storage. Review account naming, performance tiers, access tiers, redundancy, encryption, endpoints, and more.', 'language': 'en-us'}, page_content='Premium file shares3\\nAzure Files\\nLRSZRS2\\nPremium storage account type for file shares only. Recommended for enterprise or high-performance scale applications. Use this account type if you want a storage account that supports both Server Message Block (SMB) and NFS file shares.\\n\\n\\nPremium page blobs3\\nPage blobs only\\nLRSZRS2\\nPremium storage account type for page blobs only. Learn more about page blobs and sample use cases.'),\n",
       "  np.float32(0.6779564)),\n",
       " (Document(id='808c56a2-ba69-4664-a6a2-b3ee2e394213', metadata={'source': 'https://learn.microsoft.com/en-us/azure/storage/common/storage-account-overview', 'title': 'Storage account overview - Azure Storage | Microsoft Learn', 'description': 'Learn about the different types of storage accounts in Azure Storage. Review account naming, performance tiers, access tiers, redundancy, encryption, endpoints, and more.', 'language': 'en-us'}, page_content='Type of storage account\\nSupported storage services\\nRedundancy options\\nUsage\\n\\n\\n\\n\\nStandard general-purpose v2\\nBlob Storage (including Data Lake Storage1), Queue Storage, Table Storage, and Azure Files\\nLocally redundant storage (LRS) / geo-redundant storage (GRS) / read-access geo-redundant storage (RA-GRS)Zone-redundant storage (ZRS) / geo-zone-redundant storage (GZRS) / read-access geo-zone-redundant storage (RA-GZRS)2\\nStandard storage account type for blobs, file shares, queues, and tables. Recommended for most scenarios using Azure Storage. If you want support for network file system (NFS) in Azure Files, use the premium file shares account type.\\n\\n\\nPremium block blobs3\\nBlob Storage (including Data Lake Storage1)\\nLRSZRS2\\nPremium storage account type for block blobs and append blobs. Recommended for scenarios with high transaction rates or that use smaller objects or require consistently low storage latency. Learn more about example workloads.'),\n",
       "  np.float32(0.6916079)),\n",
       " (Document(id='0c69ea35-8fec-4260-9430-43117568562c', metadata={'source': 'https://learn.microsoft.com/en-us/azure/storage/common/storage-account-overview', 'title': 'Storage account overview - Azure Storage | Microsoft Learn', 'description': 'Learn about the different types of storage accounts in Azure Storage. Review account naming, performance tiers, access tiers, redundancy, encryption, endpoints, and more.', 'language': 'en-us'}, page_content='Storage account name\\nWhen naming your storage account, keep these rules in mind:\\n\\nStorage account names must be between 3 and 24 characters in length and may contain numbers and lowercase letters only.\\nYour storage account name must be unique within Azure. No two storage accounts can have the same name.'),\n",
       "  np.float32(0.7722718))]"
      ]
     },
     "execution_count": 27,
     "metadata": {},
     "output_type": "execute_result"
    }
   ],
   "source": [
    "from langchain_ollama import OllamaEmbeddings\n",
    "from langchain_community.vectorstores import FAISS\n",
    "embedding_db = OllamaEmbeddings(model=EMBEDDING_MODEL_NAME)\n",
    "fdb = FAISS.from_documents(documents=texts , embedding=embedding_db)\n",
    "fdb.similarity_search_with_score(query=\"Account types?\")\n"
   ]
  },
  {
   "cell_type": "markdown",
   "metadata": {
    "pycharm": {
     "name": "#%% md\n"
    }
   },
   "source": [
    "##### With retrieval chain (Get response from llm)\n",
    "\n",
    "First create document chain (combined context)\n",
    "\n",
    "`create_stuff_documents_chain` -> combines docs in a single context which in inputted to retreiver\n"
   ]
  },
  {
   "cell_type": "code",
   "execution_count": 28,
   "metadata": {
    "pycharm": {
     "name": "#%%\n"
    }
   },
   "outputs": [
    {
     "data": {
      "text/plain": [
       "RunnableBinding(bound=RunnableBinding(bound=RunnableAssign(mapper={\n",
       "  context: RunnableLambda(format_docs)\n",
       "}), kwargs={}, config={'run_name': 'format_inputs'}, config_factories=[])\n",
       "| ChatPromptTemplate(input_variables=['context'], input_types={}, partial_variables={}, messages=[HumanMessagePromptTemplate(prompt=PromptTemplate(input_variables=['context'], input_types={}, partial_variables={}, template='\\n        Answer the following question based only on the provided context:\\n            <context>\\n            {context}\\n            </context>\\n    '), additional_kwargs={})])\n",
       "| ChatOllama(model='llama3:8b')\n",
       "| StrOutputParser(), kwargs={}, config={'run_name': 'stuff_documents_chain'}, config_factories=[])"
      ]
     },
     "execution_count": 28,
     "metadata": {},
     "output_type": "execute_result"
    }
   ],
   "source": [
    "from langchain_core.prompts import ChatPromptTemplate\n",
    "from langchain.chains.combine_documents import create_stuff_documents_chain\n",
    "from langchain_ollama import ChatOllama\n",
    "\n",
    "llm_model = ChatOllama(model=LLM_MODEL_NAME)\n",
    "\n",
    "prompt_template = ChatPromptTemplate.from_template(\n",
    "    \"\"\"\n",
    "        Answer the following question based only on the provided context:\n",
    "            <context>\n",
    "            {context}\n",
    "            </context>\n",
    "    \"\"\"\n",
    ")\n",
    "\n",
    "document_chain = create_stuff_documents_chain(llm_model, prompt_template)\n",
    "document_chain"
   ]
  },
  {
   "cell_type": "markdown",
   "metadata": {
    "pycharm": {
     "name": "#%% md\n"
    }
   },
   "source": [
    "`create_retrieval_chain` -> uses the vector store retreiver to pull necessry context from the document chain defined earlier and forward only the relevant documents to llm.\n",
    "\n",
    "Relevant documents are fetched with similarity search"
   ]
  },
  {
   "cell_type": "code",
   "execution_count": 29,
   "metadata": {
    "pycharm": {
     "name": "#%%\n"
    }
   },
   "outputs": [
    {
     "data": {
      "text/plain": [
       "RunnableBinding(bound=RunnableAssign(mapper={\n",
       "  context: RunnableBinding(bound=RunnableLambda(lambda x: x['input'])\n",
       "           | VectorStoreRetriever(tags=['FAISS', 'OllamaEmbeddings'], vectorstore=<langchain_community.vectorstores.faiss.FAISS object at 0x0000017A7A0290C0>, search_kwargs={}), kwargs={}, config={'run_name': 'retrieve_documents'}, config_factories=[])\n",
       "})\n",
       "| RunnableAssign(mapper={\n",
       "    answer: RunnableBinding(bound=RunnableBinding(bound=RunnableAssign(mapper={\n",
       "              context: RunnableLambda(format_docs)\n",
       "            }), kwargs={}, config={'run_name': 'format_inputs'}, config_factories=[])\n",
       "            | ChatPromptTemplate(input_variables=['context'], input_types={}, partial_variables={}, messages=[HumanMessagePromptTemplate(prompt=PromptTemplate(input_variables=['context'], input_types={}, partial_variables={}, template='\\n        Answer the following question based only on the provided context:\\n            <context>\\n            {context}\\n            </context>\\n    '), additional_kwargs={})])\n",
       "            | ChatOllama(model='llama3:8b')\n",
       "            | StrOutputParser(), kwargs={}, config={'run_name': 'stuff_documents_chain'}, config_factories=[])\n",
       "  }), kwargs={}, config={'run_name': 'retrieval_chain'}, config_factories=[])"
      ]
     },
     "execution_count": 29,
     "metadata": {},
     "output_type": "execute_result"
    }
   ],
   "source": [
    "from langchain.chains import create_retrieval_chain\n",
    "retrieval_chain = create_retrieval_chain(fdb.as_retriever(), document_chain)\n",
    "retrieval_chain"
   ]
  },
  {
   "cell_type": "code",
   "execution_count": 30,
   "metadata": {
    "pycharm": {
     "name": "#%%\n"
    }
   },
   "outputs": [
    {
     "data": {
      "text/plain": [
       "{'input': 'How to Transfer data into a storage account?',\n",
       " 'context': [Document(id='6af4494f-83be-4340-9392-d43d98ffc5bc', metadata={'source': 'https://learn.microsoft.com/en-us/azure/storage/common/storage-account-overview', 'title': 'Storage account overview - Azure Storage | Microsoft Learn', 'description': 'Learn about the different types of storage accounts in Azure Storage. Review account naming, performance tiers, access tiers, redundancy, encryption, endpoints, and more.', 'language': 'en-us'}, page_content=\"Transfer data into a storage account\\nMicrosoft provides services and utilities for importing your data from on-premises storage devices or third-party cloud storage providers. Which solution you use depends on the quantity of data you're transferring. For more information, see Azure Storage migration overview.\\nStorage account encryption\\nAll data in your storage account is automatically encrypted on the service side. For more information about encryption and key management, see Azure Storage encryption for data at rest.\\nStorage account billing\\nAzure Storage bills based on your storage account usage. All objects in a storage account are billed together as a group. Storage costs are calculated according to the following factors:\"),\n",
       "  Document(id='5580f85b-d16a-4c44-b633-4a81490faca3', metadata={'source': 'https://learn.microsoft.com/en-us/azure/storage/common/storage-account-overview', 'title': 'Storage account overview - Azure Storage | Microsoft Learn', 'description': 'Learn about the different types of storage accounts in Azure Storage. Review account naming, performance tiers, access tiers, redundancy, encryption, endpoints, and more.', 'language': 'en-us'}, page_content='Move a storage account to a different resource group\\nAzure Resource Manager provides options for moving a resource to a different resource group. For more information, see Move resources to a new resource group or subscription.\\n\\n\\nMove a storage account to a different region\\nTo move a storage account, create a copy of your storage account in another region. Then, move your data to that account by using AzCopy, or another tool of your choice. For more information, see Move an Azure Storage account to another region.\\n\\n\\nUpgrade to a general-purpose v2 storage account\\nYou can upgrade a general-purpose v1 storage account or Blob Storage account to a general-purpose v2 account. Note that this action can’t be undone. For more information, see Upgrade to a general-purpose v2 storage account.'),\n",
       "  Document(id='6e22b9a6-fc36-4353-8bb2-ef046e4a26fb', metadata={'source': 'https://learn.microsoft.com/en-us/azure/storage/common/storage-account-overview', 'title': 'Storage account overview - Azure Storage | Microsoft Learn', 'description': 'Learn about the different types of storage accounts in Azure Storage. Review account naming, performance tiers, access tiers, redundancy, encryption, endpoints, and more.', 'language': 'en-us'}, page_content='Storage account endpoints\\nA storage account provides a unique namespace in Azure for your data. Every object that you store in Azure Storage has a URL address that includes your unique account name. The combination of the account name and the service endpoint forms the endpoints for your storage account.\\nThere are two types of service endpoints available for a storage account:'),\n",
       "  Document(id='1af2ae71-f41f-45f2-adfa-43f1fff6daf0', metadata={'source': 'https://learn.microsoft.com/en-us/azure/storage/common/storage-account-overview', 'title': 'Storage account overview - Azure Storage | Microsoft Learn', 'description': 'Learn about the different types of storage accounts in Azure Storage. Review account naming, performance tiers, access tiers, redundancy, encryption, endpoints, and more.', 'language': 'en-us'}, page_content=\"Storage account overview\\n\\n\\n\\n\\n\\n\\t\\t\\t\\t2025-03-04\\n\\t\\t\\t\\n\\n\\n\\n\\n\\n\\n\\n\\nFeedback\\n\\n\\n\\n\\n\\n\\t\\t\\t\\tIn this article\\n\\t\\t\\t\\n\\nAn Azure storage account contains all of your Azure Storage data objects: blobs, files, queues, and tables. The storage account provides a unique namespace for your Azure Storage data that's accessible from anywhere in the world over HTTP or HTTPS. Data in your storage account is durable and highly available, secure, and massively scalable.\\nTo learn how to create an Azure Storage account, see Create a storage account.\\nTypes of storage accounts\\nAzure Storage offers several types of storage accounts. Each type supports different features and has its own pricing model.\\nThe following table describes the types of storage accounts recommended by Microsoft for most scenarios. All of these use the Azure Resource Manager deployment model.\\n\\n\\n\\nType of storage account\\nSupported storage services\\nRedundancy options\\nUsage\")],\n",
       " 'answer': 'Based on the provided context, to transfer data into a storage account, you can:\\n\\n* Use Azure Storage migration overview to import your data from on-premises storage devices or third-party cloud storage providers.\\n* Alternatively, use AzCopy or another tool of your choice to move your data to the new storage account.'}"
      ]
     },
     "execution_count": 30,
     "metadata": {},
     "output_type": "execute_result"
    }
   ],
   "source": [
    "resp = retrieval_chain.invoke({\"input\":\"How to Transfer data into a storage account?\"})\n",
    "resp"
   ]
  }
 ],
 "metadata": {
  "kernelspec": {
   "display_name": "venv",
   "language": "python",
   "name": "python3"
  },
  "language_info": {
   "codemirror_mode": {
    "name": "ipython",
    "version": 3
   },
   "file_extension": ".py",
   "mimetype": "text/x-python",
   "name": "python",
   "nbconvert_exporter": "python",
   "pygments_lexer": "ipython3",
   "version": "3.10.18"
  }
 },
 "nbformat": 4,
 "nbformat_minor": 2
}