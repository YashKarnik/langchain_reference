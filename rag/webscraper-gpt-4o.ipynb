{
 "cells": [
  {
   "cell_type": "code",
   "execution_count": 3,
   "metadata": {
    "pycharm": {
     "name": "#%%\n"
    }
   },
   "outputs": [
    {
     "name": "stderr",
     "output_type": "stream",
     "text": [
      "e:\\agenticai\\venv\\lib\\site-packages\\requests\\__init__.py:86: RequestsDependencyWarning: Unable to find acceptable character detection dependency (chardet or charset_normalizer).\n",
      "  warnings.warn(\n",
      "USER_AGENT environment variable not set, consider setting it to identify your requests.\n"
     ]
    }
   ],
   "source": [
    "import os\n",
    "from langchain_community.document_loaders import WebBaseLoader\n",
    "page_url = \"https://learn.microsoft.com/en-us/azure/storage/common/storage-account-overview\"\n",
    "loader = WebBaseLoader(web_paths=[page_url])\n",
    "content  = loader.load()\n",
    "MODEL_NAME = \"gpt-4o\"\n",
    "API_VERSION=\"2024-12-01-preview\"\n",
    "\n",
    "os.environ[\"AZURE_OPENAI_API_KEY\"] = \"\"\n",
    "os.environ[\"AZURE_OPENAI_ENDPOINT\"] = \"\"\n",
    "os.environ[\"OPENAI_API_KEY\"] = \"\"\n"
   ]
  },
  {
   "cell_type": "code",
   "execution_count": 4,
   "metadata": {
    "pycharm": {
     "name": "#%%\n"
    }
   },
   "outputs": [],
   "source": [
    "from langchain_text_splitters import RecursiveCharacterTextSplitter\n",
    "text_splitter = RecursiveCharacterTextSplitter(chunk_size=1000, chunk_overlap=80)\n",
    "texts = text_splitter.split_documents(content)"
   ]
  },
  {
   "cell_type": "code",
   "execution_count": 5,
   "metadata": {
    "pycharm": {
     "name": "#%%\n"
    }
   },
   "outputs": [],
   "source": [
    "from langchain_openai import AzureOpenAIEmbeddings\n",
    "\n",
    "from langchain_community.vectorstores import FAISS\n",
    "embedding_db = AzureOpenAIEmbeddings(model=\"text-embedding-ada-002\")\n",
    "fdb = FAISS.from_documents(documents=texts , embedding=embedding_db)\n"
   ]
  },
  {
   "cell_type": "code",
   "execution_count": 6,
   "metadata": {
    "pycharm": {
     "name": "#%%\n"
    }
   },
   "outputs": [
    {
     "data": {
      "text/plain": [
       "[(Document(id='2ce6c3c1-4038-405c-b249-c7fd552db8e3', metadata={'source': 'https://learn.microsoft.com/en-us/azure/storage/common/storage-account-overview', 'title': 'Storage account overview - Azure Storage | Microsoft Learn', 'description': 'Learn about the different types of storage accounts in Azure Storage. Review account naming, performance tiers, access tiers, redundancy, encryption, endpoints, and more.', 'language': 'en-us'}, page_content=\"Region refers to the geographical region in which your account is based.\\nAccount type refers to the type of storage account you're using.\\nAccess tier refers to the data usage pattern you’ve specified for your general-purpose v2 or Blob Storage account.\\nCapacity refers to how much of your storage account allotment you're using to store data.\\nRedundancy determines how many copies of your data are maintained at one time, and in what locations.\\nTransactions refer to all read and write operations to Azure Storage.\\nData egress refers to any data transferred out of an Azure region. When the data in your storage account is accessed by an application that isn’t running in the same region, you're charged for data egress. For information about using resource groups to group your data and services in the same region to limit egress charges, see What is an Azure resource group?.\"),\n",
       "  np.float32(0.44019556)),\n",
       " (Document(id='2838c420-901b-4d0d-b14a-ea59db207821', metadata={'source': 'https://learn.microsoft.com/en-us/azure/storage/common/storage-account-overview', 'title': 'Storage account overview - Azure Storage | Microsoft Learn', 'description': 'Learn about the different types of storage accounts in Azure Storage. Review account naming, performance tiers, access tiers, redundancy, encryption, endpoints, and more.', 'language': 'en-us'}, page_content='Workload\\nAccount kind\\nPerformance\\nRedundancy\\nHierarchical namespace enabled\\nDefault access tier\\nSoft delete enabled\\n\\n\\n\\n\\nCloud native\\nGeneral purpose v2\\nStandard\\nZRS, RA-GRS\\nNo\\nHot\\nYes\\n\\n\\nAnalytics\\nGeneral purpose v2\\nStandard\\nZRS1, RA-GRS\\nYes2\\nHot\\nYes\\n\\n\\nHigh performance computing (HPC)\\nGeneral purpose v2\\nStandard\\nZRS, RA-GRS\\nYes\\nHot\\nYes\\n\\n\\nBackup and archive\\nGeneral purpose v2\\nStandard\\nZRS, RA-GRS\\nNo\\nCool3\\nYes\\n\\n\\nMachine learning and artificial intelligence\\nGeneral purpose v2\\nStandard\\nZRS, RA-GRS\\nYes\\nHot\\nNo'),\n",
       "  np.float32(0.45447072)),\n",
       " (Document(id='d476ca4c-1921-4664-9fa1-b2d81ad9fe76', metadata={'source': 'https://learn.microsoft.com/en-us/azure/storage/common/storage-account-overview', 'title': 'Storage account overview - Azure Storage | Microsoft Learn', 'description': 'Learn about the different types of storage accounts in Azure Storage. Review account naming, performance tiers, access tiers, redundancy, encryption, endpoints, and more.', 'language': 'en-us'}, page_content='1 Zone Redundant Storage (ZRS) is a good default for analytics workloads because ZRS offers additional redundancy compared to Locally Redundant Storage (LRS), protecting against zonal failures while remaining fully compatible with analytics frameworks. Customers that require additional redundancy can also leverage Geo-redundant Storage (GRS/RA-GRS) if additional redundancy is required for an analytics workload.\\n2 As a core capability of Azure Data Lake Storage (ADLS), the hierarchical namespace enhances data organization and access efficiency for large amounts of data, making it ideal for analytics workloads.\\n3 The cool access tier offers a cost-effective solution for storing infrequently accessed data, which is typical for a backup and archive workload. Customers can also consider the cold access tier after evaluating costs.\\nStorage account endpoints'),\n",
       "  np.float32(0.466384)),\n",
       " (Document(id='7b456b66-2603-41c6-83fd-16fff9686107', metadata={'source': 'https://learn.microsoft.com/en-us/azure/storage/common/storage-account-overview', 'title': 'Storage account overview - Azure Storage | Microsoft Learn', 'description': 'Learn about the different types of storage accounts in Azure Storage. Review account naming, performance tiers, access tiers, redundancy, encryption, endpoints, and more.', 'language': 'en-us'}, page_content='Storage account workloads\\nAzure Storage customers use a variety of workloads to store data, access it and derive insights to meet their business objectives. Each workload uses specific protocols for data operations based on its requirements as well as industry standards.\\nBelow is a high-level categorization of different primary workloads for your storage accounts.\\nCloud native\\nCloud native apps are large-scale distributed applications that are built on a foundation of cloud paradigms and technologies. This modern approach focuses on cloud scale and performance capabilities. Cloud native apps can be based on microservices architecture, use managed services, and employ continuous delivery to achieve reliability. These applications are typically categorized into web apps, mobile apps, containerized apps, and serverless/FaaS.\\nAnalytics'),\n",
       "  np.float32(0.4793141))]"
      ]
     },
     "execution_count": 6,
     "metadata": {},
     "output_type": "execute_result"
    }
   ],
   "source": [
    "fdb.similarity_search_with_score(query=\"Tiers\")"
   ]
  },
  {
   "cell_type": "markdown",
   "metadata": {
    "pycharm": {
     "name": "#%% md\n"
    }
   },
   "source": [
    "## With retrieval chain (Get response from llm)"
   ]
  },
  {
   "cell_type": "code",
   "execution_count": 7,
   "metadata": {
    "pycharm": {
     "name": "#%%\n"
    }
   },
   "outputs": [],
   "source": [
    "from langchain_openai import AzureChatOpenAI\n",
    "\n",
    "llm_model = AzureChatOpenAI(model=MODEL_NAME, api_version=API_VERSION)"
   ]
  },
  {
   "cell_type": "code",
   "execution_count": 8,
   "metadata": {
    "pycharm": {
     "name": "#%%\n"
    }
   },
   "outputs": [
    {
     "data": {
      "text/plain": [
       "RunnableBinding(bound=RunnableBinding(bound=RunnableAssign(mapper={\n",
       "  context: RunnableLambda(format_docs)\n",
       "}), kwargs={}, config={'run_name': 'format_inputs'}, config_factories=[])\n",
       "| ChatPromptTemplate(input_variables=['context'], input_types={}, partial_variables={}, messages=[HumanMessagePromptTemplate(prompt=PromptTemplate(input_variables=['context'], input_types={}, partial_variables={}, template='\\n        Answer the following question based only on the provided context:\\n            <context>\\n            {context}\\n            </context>\\n\\n    '), additional_kwargs={})])\n",
       "| AzureChatOpenAI(client=<openai.resources.chat.completions.completions.Completions object at 0x000002888039AE30>, async_client=<openai.resources.chat.completions.completions.AsyncCompletions object at 0x000002888039A860>, root_client=<openai.lib.azure.AzureOpenAI object at 0x0000028833A75750>, root_async_client=<openai.lib.azure.AsyncAzureOpenAI object at 0x000002888039A7D0>, model_name='gpt-4o', model_kwargs={}, openai_api_key=SecretStr('**********'), azure_endpoint='https://yashk-mbzb9utp-eastus2.cognitiveservices.azure.com/', openai_api_version='2024-12-01-preview', openai_api_type='azure')\n",
       "| StrOutputParser(), kwargs={}, config={'run_name': 'stuff_documents_chain'}, config_factories=[])"
      ]
     },
     "execution_count": 8,
     "metadata": {},
     "output_type": "execute_result"
    }
   ],
   "source": [
    "from langchain_core.prompts import ChatPromptTemplate\n",
    "from langchain.chains.combine_documents import create_stuff_documents_chain\n",
    "prompt_template = ChatPromptTemplate.from_template(\n",
    "    \"\"\"\n",
    "        Answer the following question based only on the provided context:\n",
    "            <context>\n",
    "            {context}\n",
    "            </context>\n",
    "\n",
    "    \"\"\"\n",
    ")\n",
    "\n",
    "document_chain = create_stuff_documents_chain(llm_model, prompt_template)\n",
    "document_chain"
   ]
  },
  {
   "cell_type": "code",
   "execution_count": 9,
   "metadata": {
    "pycharm": {
     "name": "#%%\n"
    }
   },
   "outputs": [
    {
     "data": {
      "text/plain": [
       "RunnableBinding(bound=RunnableAssign(mapper={\n",
       "  context: RunnableBinding(bound=RunnableLambda(lambda x: x['input'])\n",
       "           | VectorStoreRetriever(tags=['FAISS', 'AzureOpenAIEmbeddings'], vectorstore=<langchain_community.vectorstores.faiss.FAISS object at 0x000002888039A1D0>, search_kwargs={}), kwargs={}, config={'run_name': 'retrieve_documents'}, config_factories=[])\n",
       "})\n",
       "| RunnableAssign(mapper={\n",
       "    answer: RunnableBinding(bound=RunnableBinding(bound=RunnableAssign(mapper={\n",
       "              context: RunnableLambda(format_docs)\n",
       "            }), kwargs={}, config={'run_name': 'format_inputs'}, config_factories=[])\n",
       "            | ChatPromptTemplate(input_variables=['context'], input_types={}, partial_variables={}, messages=[HumanMessagePromptTemplate(prompt=PromptTemplate(input_variables=['context'], input_types={}, partial_variables={}, template='\\n        Answer the following question based only on the provided context:\\n            <context>\\n            {context}\\n            </context>\\n\\n    '), additional_kwargs={})])\n",
       "            | AzureChatOpenAI(client=<openai.resources.chat.completions.completions.Completions object at 0x000002888039AE30>, async_client=<openai.resources.chat.completions.completions.AsyncCompletions object at 0x000002888039A860>, root_client=<openai.lib.azure.AzureOpenAI object at 0x0000028833A75750>, root_async_client=<openai.lib.azure.AsyncAzureOpenAI object at 0x000002888039A7D0>, model_name='gpt-4o', model_kwargs={}, openai_api_key=SecretStr('**********'), azure_endpoint='https://yashk-mbzb9utp-eastus2.cognitiveservices.azure.com/', openai_api_version='2024-12-01-preview', openai_api_type='azure')\n",
       "            | StrOutputParser(), kwargs={}, config={'run_name': 'stuff_documents_chain'}, config_factories=[])\n",
       "  }), kwargs={}, config={'run_name': 'retrieval_chain'}, config_factories=[])"
      ]
     },
     "execution_count": 9,
     "metadata": {},
     "output_type": "execute_result"
    }
   ],
   "source": [
    "from langchain.chains import create_retrieval_chain\n",
    "retrieval_chain = create_retrieval_chain(fdb.as_retriever(), document_chain)\n",
    "retrieval_chain"
   ]
  },
  {
   "cell_type": "code",
   "execution_count": 12,
   "metadata": {
    "pycharm": {
     "name": "#%%\n"
    }
   },
   "outputs": [
    {
     "data": {
      "text/plain": [
       "'**Question:** What factors are involved in calculating storage costs for an Azure storage account?\\n\\n**Answer:** Storage costs for an Azure storage account are calculated based on the following factors:  \\n\\n1. **Account type:** Different storage account types have varying pricing models.  \\n2. **Storage capacity:** The amount of data stored in the account.  \\n3. **Replication:** The redundancy options used for data replication (e.g., ZRS, GZRS).  \\n4. **Transactions:** The number of operations performed on the storage.  \\n\\nAdditionally, detailed pricing information can be found on the Azure Storage pricing page and the Data Transfers pricing details page.'"
      ]
     },
     "execution_count": 12,
     "metadata": {},
     "output_type": "execute_result"
    }
   ],
   "source": [
    "resp = retrieval_chain.invoke({\"input\":\"How to Transfer data into a storage account\"})\n",
    "resp['answer']"
   ]
  },
  {
   "cell_type": "code",
   "execution_count": 11,
   "metadata": {
    "pycharm": {
     "name": "#%%\n"
    }
   },
   "outputs": [
    {
     "data": {
      "text/plain": [
       "{'input': 'How is storage account billed??',\n",
       " 'context': [Document(id='7ef59ba9-42bf-4347-8d60-7d88374b3fbd', metadata={'source': 'https://learn.microsoft.com/en-us/azure/storage/common/storage-account-overview', 'title': 'Storage account overview - Azure Storage | Microsoft Learn', 'description': 'Learn about the different types of storage accounts in Azure Storage. Review account naming, performance tiers, access tiers, redundancy, encryption, endpoints, and more.', 'language': 'en-us'}, page_content=\"Transfer data into a storage account\\nMicrosoft provides services and utilities for importing your data from on-premises storage devices or third-party cloud storage providers. Which solution you use depends on the quantity of data you're transferring. For more information, see Azure Storage migration overview.\\nStorage account encryption\\nAll data in your storage account is automatically encrypted on the service side. For more information about encryption and key management, see Azure Storage encryption for data at rest.\\nStorage account billing\\nAzure Storage bills based on your storage account usage. All objects in a storage account are billed together as a group. Storage costs are calculated according to the following factors:\"),\n",
       "  Document(id='c0ad8eb2-5417-4926-b2d1-146e53b04f95', metadata={'source': 'https://learn.microsoft.com/en-us/azure/storage/common/storage-account-overview', 'title': 'Storage account overview - Azure Storage | Microsoft Learn', 'description': 'Learn about the different types of storage accounts in Azure Storage. Review account naming, performance tiers, access tiers, redundancy, encryption, endpoints, and more.', 'language': 'en-us'}, page_content='The Azure Storage pricing page provides detailed pricing information based on account type, storage capacity, replication, and transactions. The Data Transfers pricing details provides detailed pricing information for data egress. You can use the Azure Storage pricing calculator to help estimate your costs.\\nAzure services cost money. Microsoft Cost Management helps you set budgets and configure alerts to keep spending under control. You can analyze, manage, and optimize your Azure costs by using Cost Management. To learn more, see the quickstart on analyzing your costs.\\nLegacy storage account types\\nThe following table describes the legacy storage account types. These account types aren’t recommended by Microsoft, but may be used in certain scenarios:\\n\\n\\n\\nType of legacy storage account\\nSupported storage services\\nRedundancy options\\nDeployment model\\nUsage'),\n",
       "  Document(id='963ad76e-0966-4638-9904-7271848d8b01', metadata={'source': 'https://learn.microsoft.com/en-us/azure/storage/common/storage-account-overview', 'title': 'Storage account overview - Azure Storage | Microsoft Learn', 'description': 'Learn about the different types of storage accounts in Azure Storage. Review account naming, performance tiers, access tiers, redundancy, encryption, endpoints, and more.', 'language': 'en-us'}, page_content=\"Storage account overview\\n\\n\\n\\n\\n\\n\\t\\t\\t\\t2025-03-04\\n\\t\\t\\t\\n\\n\\n\\n\\n\\n\\n\\n\\nFeedback\\n\\n\\n\\n\\n\\n\\t\\t\\t\\tIn this article\\n\\t\\t\\t\\n\\nAn Azure storage account contains all of your Azure Storage data objects: blobs, files, queues, and tables. The storage account provides a unique namespace for your Azure Storage data that's accessible from anywhere in the world over HTTP or HTTPS. Data in your storage account is durable and highly available, secure, and massively scalable.\\nTo learn how to create an Azure Storage account, see Create a storage account.\\nTypes of storage accounts\\nAzure Storage offers several types of storage accounts. Each type supports different features and has its own pricing model.\\nThe following table describes the types of storage accounts recommended by Microsoft for most scenarios. All of these use the Azure Resource Manager deployment model.\\n\\n\\n\\nType of storage account\\nSupported storage services\\nRedundancy options\\nUsage\"),\n",
       "  Document(id='6e85a27e-aa28-4a73-a5de-71b5db8168d8', metadata={'source': 'https://learn.microsoft.com/en-us/azure/storage/common/storage-account-overview', 'title': 'Storage account overview - Azure Storage | Microsoft Learn', 'description': 'Learn about the different types of storage accounts in Azure Storage. Review account naming, performance tiers, access tiers, redundancy, encryption, endpoints, and more.', 'language': 'en-us'}, page_content='Recommended workload configurations\\nThe table below illustrates Microsoft\\'s suggested storage account configurations for each workload. Changes in the configuration options (associated with each workload) have cost implications. Visit the Block blob pricing to view pricing. Enter the configuration options for the workload into the calculator and select the \"Recommended\" tab to view detailed pricing for the specific workload you are creating.')],\n",
       " 'answer': '### Question:\\n\\nHow is data in a Microsoft Azure storage account secured?\\n\\n### Answer:\\n\\nAll data in an Azure storage account is automatically encrypted on the service side. For more information, you can refer to the Azure Storage encryption for data at rest documentation.'}"
      ]
     },
     "execution_count": 11,
     "metadata": {},
     "output_type": "execute_result"
    }
   ],
   "source": [
    "resp"
   ]
  }
 ],
 "metadata": {
  "kernelspec": {
   "display_name": "venv",
   "language": "python",
   "name": "python3"
  },
  "language_info": {
   "codemirror_mode": {
    "name": "ipython",
    "version": 3
   },
   "file_extension": ".py",
   "mimetype": "text/x-python",
   "name": "python",
   "nbconvert_exporter": "python",
   "pygments_lexer": "ipython3",
   "version": "3.10.18"
  }
 },
 "nbformat": 4,
 "nbformat_minor": 2
}