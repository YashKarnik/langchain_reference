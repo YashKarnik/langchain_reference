{
 "cells": [
  {
   "cell_type": "code",
   "execution_count": 10,
   "metadata": {
    "collapsed": true,
    "pycharm": {
     "name": "#%%\n"
    }
   },
   "outputs": [],
   "source": [
    "from typing_extensions import TypedDict\n",
    "\n",
    "\n",
    "class State(TypedDict):\n",
    "    noun: str\n",
    "    verb: str\n",
    "    pop_culture_reference: str\n",
    "    cutaway: str"
   ]
  },
  {
   "cell_type": "code",
   "execution_count": 11,
   "outputs": [],
   "source": [
    "from langchain_ollama import ChatOllama\n",
    "\n",
    "llm_model = ChatOllama(model=\"llama3.1:latest\")"
   ],
   "metadata": {
    "collapsed": false,
    "pycharm": {
     "name": "#%%\n"
    }
   }
  },
  {
   "cell_type": "code",
   "execution_count": 12,
   "outputs": [],
   "source": [
    "def generate_noun(state: State):\n",
    "    noun = llm_model.invoke(\"Generate a random noun. Only return noun and nothing else\").content\n",
    "    return {\"noun\": noun}\n",
    "\n",
    "\n",
    "def generate_verb(state: State):\n",
    "    verb = llm_model.invoke(f\"Generate a random verb. Only return verb and nothing else\").content\n",
    "    return {\"verb\": verb}\n",
    "\n",
    "\n",
    "def generate_pop_culture_reference(state: State):\n",
    "    pop_culture_reference = llm_model.invoke(\"Generate a random pop culture reference.Only return result and nothing else\").content\n",
    "    return {\"pop_culture_reference\": pop_culture_reference}\n",
    "\n",
    "def create_cutaway(state: State):\n",
    "    cutaway = llm_model.invoke(f\"\"\"\n",
    "        Create a family guy cutaway using the following inouts.\n",
    "        Noun: {state['noun']}\n",
    "        Verb: {state['verb']}\n",
    "        Pop Culture reference: {state['pop_culture_reference']}\n",
    "    \"\"\").content\n",
    "    return {\"cutaway\": cutaway}\n",
    "\n"
   ],
   "metadata": {
    "collapsed": false,
    "pycharm": {
     "name": "#%%\n"
    }
   }
  },
  {
   "cell_type": "code",
   "execution_count": 13,
   "outputs": [
    {
     "data": {
      "text/plain": "<langgraph.graph.state.CompiledStateGraph object at 0x00000156AE0CCBB0>",
      "image/png": "[encoded data removed]"
     },
     "execution_count": 13,
     "metadata": {},
     "output_type": "execute_result"
    }
   ],
   "source": [
    "# from langgraph.constants import START\n",
    "from langgraph.graph import StateGraph, START, END\n",
    "\n",
    "graph_builder = StateGraph(State)\n",
    "\n",
    "# nodes\n",
    "graph_builder.add_node(\"generate_noun\", generate_noun)\n",
    "graph_builder.add_node(\"generate_verb\", generate_verb)\n",
    "graph_builder.add_node(\"generate_pop_culture_reference\", generate_pop_culture_reference)\n",
    "graph_builder.add_node(\"create_cutaway\", create_cutaway)\n",
    "\n",
    "#edges\n",
    "\n",
    "graph_builder.add_edge(START, \"generate_noun\")\n",
    "graph_builder.add_edge(START, \"generate_verb\")\n",
    "graph_builder.add_edge(START, \"generate_pop_culture_reference\")\n",
    "\n",
    "graph_builder.add_edge(\"generate_noun\",\"create_cutaway\")\n",
    "graph_builder.add_edge( \"generate_verb\",\"create_cutaway\")\n",
    "graph_builder.add_edge(\"generate_pop_culture_reference\",\"create_cutaway\")\n",
    "\n",
    "graph_builder.add_edge(\"create_cutaway\", END)\n",
    "graph = graph_builder.compile()\n",
    "graph\n",
    "\n"
   ],
   "metadata": {
    "collapsed": false,
    "pycharm": {
     "name": "#%%\n"
    }
   }
  },
  {
   "cell_type": "code",
   "execution_count": 15,
   "outputs": [
    {
     "data": {
      "text/plain": "{'noun': 'Piano',\n 'verb': 'Whisper',\n 'pop_culture_reference': 'The Dude abides.',\n 'cutaway': 'Here\\'s a Family Guy-style cutaway gag:\\n\\n(Cut to Peter sitting at a piano, wearing a bathrobe and slippers)\\n\\nPeter: (to himself) Ah, the sweet sound of the piano. It\\'s like music to my ears...\\n\\n(Cut to a flashback sequence where Peter is in a Western saloon, sipping on a White Russian)\\n\\nPeter: (whispering to himself) I\\'m just gonna sit back, relax, and let the notes of this here piano wash over me... (he looks up at the bartender) You know what they say, \"The Dude abides.\"\\n\\n(Bartender gives him a confused look)\\n\\nBartender: Uh, okay... What\\'s that supposed to mean?\\n\\nPeter: (whispering again) It means I\\'m gonna sit here all day and let my worries fade away like the notes on this piano...\\n\\n(Cut back to Peter sitting at the piano in his living room, but now he\\'s wearing a cowboy hat and boots)\\n\\nPeter: (singing) \"The Dude abides... The Dude abides...\"\\n\\n(Lois walks into the room, laughing)\\n\\nLois: What are you doing, Peter?\\n\\nPeter: (still whispering) I\\'m just channeling my inner Lebowski...\\n\\n(Cut back to the present, with Peter still sitting at the piano, but now it\\'s a normal-sized one in his living room)\\n\\nPeter: (back to normal voice) Yeah, that was weird.'}"
     },
     "execution_count": 15,
     "metadata": {},
     "output_type": "execute_result"
    }
   ],
   "source": [
    "results = graph.invoke({})\n",
    "results"
   ],
   "metadata": {
    "collapsed": false,
    "pycharm": {
     "name": "#%%\n"
    }
   }
  },
  {
   "cell_type": "code",
   "execution_count": 14,
   "outputs": [],
   "source": [
    "from langgraph.graph import MessagesState\n"
   ],
   "metadata": {
    "collapsed": false,
    "pycharm": {
     "name": "#%%\n"
    }
   }
  }
 ],
 "metadata": {
  "kernelspec": {
   "display_name": "Python 3",
   "language": "python",
   "name": "python3"
  },
  "language_info": {
   "codemirror_mode": {
    "name": "ipython",
    "version": 2
   },
   "file_extension": ".py",
   "mimetype": "text/x-python",
   "name": "python",
   "nbconvert_exporter": "python",
   "pygments_lexer": "ipython2",
   "version": "2.7.6"
  }
 },
 "nbformat": 4,
 "nbformat_minor": 0
}