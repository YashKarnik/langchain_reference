{
 "cells": [
  {
   "cell_type": "code",
   "execution_count": 1,
   "metadata": {
    "pycharm": {
     "name": "#%%\n"
    }
   },
   "outputs": [
    {
     "name": "stderr",
     "output_type": "stream",
     "text": [
      "E:\\agenticai\\venv\\lib\\site-packages\\requests\\__init__.py:86: RequestsDependencyWarning: Unable to find acceptable character detection dependency (chardet or charset_normalizer).\n",
      "  warnings.warn(\n"
     ]
    }
   ],
   "source": [
    "from typing import Annotated\n",
    "from typing_extensions import TypedDict\n",
    "from langgraph.graph import StateGraph, START\n",
    "from langgraph.graph.message import add_messages\n",
    "from langchain_core.messages import AnyMessage\n",
    "\n",
    "class State(TypedDict):\n",
    "    messages: Annotated[list[AnyMessage], add_messages]\n"
   ]
  },
  {
   "cell_type": "code",
   "execution_count": 2,
   "metadata": {
    "pycharm": {
     "name": "#%%\n"
    }
   },
   "outputs": [],
   "source": [
    "# from langchain_ollama import ChatOllama \n",
    "# LLM_MODEL_NAME=\"llama3.1:latest\"\n",
    "# base_llm = ChatOllama(model=LLM_MODEL_NAME)\n",
    "from langchain_groq import ChatGroq\n",
    "import os\n",
    "GROQ_KEY = \"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\"\n",
    "os.environ[\"GROQ_API_KEY\"] = GROQ_KEY\n",
    "base_llm=ChatGroq(model=\"qwen-qwq-32b\") # only this model work :/\n",
    "# base_llm=ChatGroq(model=\"gemma2-9b-it\")\n"
   ]
  },
  {
   "cell_type": "code",
   "execution_count": 3,
   "metadata": {
    "pycharm": {
     "name": "#%%\n"
    }
   },
   "outputs": [],
   "source": [
    "from langchain_core.tools import tool\n",
    "from math import sqrt \n",
    "\n",
    "# @tool\n",
    "def factorial(n:int)->int:\n",
    "    \"\"\"\n",
    "    Calculate the factorial of a given non-negative integer.\n",
    "    \"\"\"\n",
    "    fact=1\n",
    "    for i in range(1, n+1):\n",
    "        fact = fact * i\n",
    "    return fact\n"
   ]
  },
  {
   "cell_type": "code",
   "execution_count": 4,
   "metadata": {
    "pycharm": {
     "name": "#%%\n"
    }
   },
   "outputs": [
    {
     "data": {
      "text/plain": "RunnableBinding(bound=ChatGroq(client=<groq.resources.chat.completions.Completions object at 0x00000295F67927A0>, async_client=<groq.resources.chat.completions.AsyncCompletions object at 0x00000295F6790250>, model_name='qwen-qwq-32b', model_kwargs={}, groq_api_key=SecretStr('**********')), kwargs={'tools': [{'type': 'function', 'function': {'name': 'factorial', 'description': 'Calculate the factorial of a given non-negative integer.', 'parameters': {'properties': {'n': {'type': 'integer'}}, 'required': ['n'], 'type': 'object'}}}]}, config={}, config_factories=[])"
     },
     "execution_count": 4,
     "metadata": {},
     "output_type": "execute_result"
    }
   ],
   "source": [
    "llm_with_tools= base_llm.bind_tools([factorial])\n",
    "llm_with_tools"
   ]
  },
  {
   "cell_type": "code",
   "execution_count": 5,
   "metadata": {
    "pycharm": {
     "name": "#%%\n"
    }
   },
   "outputs": [
    {
     "data": {
      "text/plain": "AIMessage(content='', additional_kwargs={'tool_calls': [{'id': 'jf4450swy', 'function': {'arguments': '{\"n\":5}', 'name': 'factorial'}, 'type': 'function'}]}, response_metadata={'token_usage': {'completion_tokens': 317, 'prompt_tokens': 144, 'total_tokens': 461, 'completion_time': 0.728226533, 'prompt_time': 0.013423454, 'queue_time': 0.277265665, 'total_time': 0.741649987}, 'model_name': 'qwen-qwq-32b', 'system_fingerprint': 'fp_28178d7ff6', 'finish_reason': 'tool_calls', 'logprobs': None}, id='run--ecf0447b-cdc2-4e0e-87f1-c053e55560f6-0', tool_calls=[{'name': 'factorial', 'args': {'n': 5}, 'id': 'jf4450swy', 'type': 'tool_call'}], usage_metadata={'input_tokens': 144, 'output_tokens': 317, 'total_tokens': 461})"
     },
     "execution_count": 5,
     "metadata": {},
     "output_type": "execute_result"
    }
   ],
   "source": [
    "from langchain_core.messages import HumanMessage\n",
    "message = [HumanMessage(content=\"What is th factorial of 5\")]\n",
    "llm_with_tools.invoke(message)"
   ]
  },
  {
   "cell_type": "code",
   "execution_count": 6,
   "metadata": {
    "pycharm": {
     "name": "#%%\n"
    }
   },
   "outputs": [],
   "source": [
    "def chatbot_node(state:State):\n",
    "    return {\"messages\":[llm_with_tools.invoke(state[\"messages\"])]}\n"
   ]
  },
  {
   "cell_type": "code",
   "execution_count": 7,
   "metadata": {
    "pycharm": {
     "name": "#%%\n"
    }
   },
   "outputs": [
    {
     "data": {
      "text/plain": "<langgraph.graph.state.CompiledStateGraph object at 0x00000295F68EBE80>",
      "image/png": "[encoded data removed]"
     },
     "execution_count": 7,
     "metadata": {},
     "output_type": "execute_result"
    }
   ],
   "source": [
    "from langgraph.graph import StateGraph,START,END\n",
    "builder = StateGraph(State)\n",
    "builder.add_node(\"chatbot_node\",chatbot_node)\n",
    "builder.add_edge(START,\"chatbot_node\")\n",
    "builder.add_edge(\"chatbot_node\",END)\n",
    "graph = builder.compile()\n",
    "graph"
   ]
  },
  {
   "cell_type": "code",
   "execution_count": 8,
   "metadata": {
    "pycharm": {
     "name": "#%%\n"
    }
   },
   "outputs": [
    {
     "name": "stdout",
     "output_type": "stream",
     "text": [
      "================================\u001B[1m Human Message \u001B[0m=================================\n",
      "\n",
      "What is factorial of 5\n",
      "==================================\u001B[1m Ai Message \u001B[0m==================================\n",
      "Tool Calls:\n",
      "  factorial (n0f4gs7jg)\n",
      " Call ID: n0f4gs7jg\n",
      "  Args:\n",
      "    n: 5\n"
     ]
    }
   ],
   "source": [
    "responses=graph.invoke({\"messages\":\"What is factorial of 5\"})\n",
    "for response in responses['messages']:\n",
    "    response.pretty_print()"
   ]
  },
  {
   "cell_type": "code",
   "execution_count": 9,
   "metadata": {
    "pycharm": {
     "name": "#%%\n"
    }
   },
   "outputs": [
    {
     "data": {
      "text/plain": "{'messages': [HumanMessage(content='What is factorial of 5', additional_kwargs={}, response_metadata={}, id='75d5bdf9-5c60-46a1-9689-1dca782cd885'),\n  AIMessage(content='', additional_kwargs={'tool_calls': [{'id': 'n0f4gs7jg', 'function': {'arguments': '{\"n\":5}', 'name': 'factorial'}, 'type': 'function'}]}, response_metadata={'token_usage': {'completion_tokens': 206, 'prompt_tokens': 143, 'total_tokens': 349, 'completion_time': 0.487389301, 'prompt_time': 0.035179403, 'queue_time': 0.751865744, 'total_time': 0.522568704}, 'model_name': 'qwen-qwq-32b', 'system_fingerprint': 'fp_18a313a21d', 'finish_reason': 'tool_calls', 'logprobs': None}, id='run--439c3fa9-578b-4017-ae4c-e81950db4731-0', tool_calls=[{'name': 'factorial', 'args': {'n': 5}, 'id': 'n0f4gs7jg', 'type': 'tool_call'}], usage_metadata={'input_tokens': 143, 'output_tokens': 206, 'total_tokens': 349})]}"
     },
     "execution_count": 9,
     "metadata": {},
     "output_type": "execute_result"
    }
   ],
   "source": [
    "responses"
   ]
  },
  {
   "cell_type": "markdown",
   "metadata": {
    "pycharm": {
     "name": "#%% md\n"
    }
   },
   "source": [
    "### Invoking the tool"
   ]
  },
  {
   "cell_type": "code",
   "execution_count": 10,
   "metadata": {
    "pycharm": {
     "name": "#%%\n"
    }
   },
   "outputs": [
    {
     "data": {
      "text/plain": "<langgraph.graph.state.CompiledStateGraph object at 0x00000295F68EBFD0>",
      "image/png": "[encoded data removed]"
     },
     "execution_count": 10,
     "metadata": {},
     "output_type": "execute_result"
    }
   ],
   "source": [
    "from langgraph.graph import StateGraph,START,END\n",
    "from langgraph.prebuilt import ToolNode, tools_condition\n",
    "\n",
    "builder = StateGraph(State)\n",
    "builder.add_node(\"chatbot_node\",chatbot_node)\n",
    "\n",
    "builder.add_node(\"tools\",ToolNode([factorial]))\n",
    "\n",
    "builder.add_edge(START,\"chatbot_node\")\n",
    "builder.add_edge(\"chatbot_node\",END)\n",
    "\n",
    "builder.add_conditional_edges(\"chatbot_node\",tools_condition)\n",
    "builder.add_edge(\"tools\",END)\n",
    "\n",
    "\n",
    "# builder.add\n",
    "graph = builder.compile()\n",
    "graph"
   ]
  },
  {
   "cell_type": "code",
   "execution_count": 11,
   "metadata": {
    "pycharm": {
     "name": "#%%\n"
    }
   },
   "outputs": [
    {
     "name": "stdout",
     "output_type": "stream",
     "text": [
      "================================\u001B[1m Human Message \u001B[0m=================================\n",
      "\n",
      "What is factorial of 5\n",
      "==================================\u001B[1m Ai Message \u001B[0m==================================\n",
      "Tool Calls:\n",
      "  factorial (cxj0tntmq)\n",
      " Call ID: cxj0tntmq\n",
      "  Args:\n",
      "    n: 5\n",
      "=================================\u001B[1m Tool Message \u001B[0m=================================\n",
      "Name: factorial\n",
      "\n",
      "120\n"
     ]
    }
   ],
   "source": [
    "responses=graph.invoke({\"messages\":\"What is factorial of 5\"})\n",
    "for response in responses['messages']:\n",
    "    response.pretty_print()"
   ]
  },
  {
   "cell_type": "code",
   "execution_count": 12,
   "metadata": {
    "pycharm": {
     "name": "#%%\n"
    }
   },
   "outputs": [
    {
     "name": "stdout",
     "output_type": "stream",
     "text": [
      "================================\u001B[1m Human Message \u001B[0m=================================\n",
      "\n",
      "What is Machine learning?\n",
      "==================================\u001B[1m Ai Message \u001B[0m==================================\n",
      "\n",
      "Machine learning is a branch of artificial intelligence (AI) that focuses on developing algorithms and statistical models. These models enable computers to improve their performance at specific tasks by learning from data, rather than relying solely on explicit programming. Instead of being manually coded with rules, machine learning systems identify patterns in data to make predictions, classifications, or decisions.\n",
      "\n",
      "**Key aspects:**\n",
      "- **Training Data:** Models learn from historical data (e.g., images, text, or sensor readings).\n",
      "- **Types of Learning:**\n",
      "  - *Supervised learning:* Uses labeled data (e.g., predicting house prices).\n",
      "  - *Unsupervised learning:* Finds hidden patterns in unlabeled data (e.g., customer segmentation).\n",
      "  - *Reinforcement learning:* Learns by trial-and-error through rewards/penalties (e.g., game-playing bots).\n",
      "- **Applications:** Used in recommendation systems (e.g., Netflix), fraud detection, medical diagnosis, self-driving cars, and natural language processing.\n",
      "\n",
      "In essence, machine learning empowers systems to adapt and optimize their behavior over time based on experience (data), much like how humans learn from past experiences.\n"
     ]
    }
   ],
   "source": [
    "responses=graph.invoke({\"messages\":\"What is Machine learning?\"})\n",
    "for response in responses['messages']:\n",
    "    response.pretty_print()"
   ]
  },
  {
   "cell_type": "code",
   "execution_count": null,
   "outputs": [],
   "source": [],
   "metadata": {
    "collapsed": false,
    "pycharm": {
     "name": "#%%\n"
    }
   }
  }
 ],
 "metadata": {
  "kernelspec": {
   "name": "venv",
   "language": "python",
   "display_name": "venv"
  },
  "language_info": {
   "codemirror_mode": {
    "name": "ipython",
    "version": 3
   },
   "file_extension": ".py",
   "mimetype": "text/x-python",
   "name": "python",
   "nbconvert_exporter": "python",
   "pygments_lexer": "ipython3",
   "version": "3.10.18"
  }
 },
 "nbformat": 4,
 "nbformat_minor": 2
}