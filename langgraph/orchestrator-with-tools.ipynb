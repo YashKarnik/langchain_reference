{
 "cells": [
  {
   "cell_type": "code",
   "execution_count": 9,
   "metadata": {
    "collapsed": false,
    "jupyter": {
     "outputs_hidden": false
    },
    "pycharm": {
     "name": "#%%\n"
    }
   },
   "outputs": [
    {
     "name": "stderr",
     "output_type": "stream",
     "text": [
      "E:\\agenticai\\venv\\lib\\site-packages\\requests\\__init__.py:86: RequestsDependencyWarning: Unable to find acceptable character detection dependency (chardet or charset_normalizer).\n",
      "  warnings.warn(\n"
     ]
    }
   ],
   "source": [
    "from typing import TypedDict\n",
    "\n",
    "from langgraph.graph import add_messages\n",
    "from typing_extensions import List, Annotated\n",
    "\n",
    "\n",
    "class AgentState(TypedDict):\n",
    "    messages: Annotated[List[str], add_messages]\n",
    "    general_procedure: str\n",
    "    steps: List[str]"
   ]
  },
  {
   "cell_type": "code",
   "execution_count": 10,
   "metadata": {
    "collapsed": false,
    "jupyter": {
     "outputs_hidden": false
    },
    "pycharm": {
     "name": "#%%\n"
    }
   },
   "outputs": [],
   "source": [
    "from langchain_ollama import ChatOllama\n",
    "\n",
    "base_llm_model = ChatOllama(model=\"llama3.1:latest\")"
   ]
  },
  {
   "cell_type": "code",
   "execution_count": 11,
   "metadata": {
    "collapsed": false,
    "jupyter": {
     "outputs_hidden": false
    },
    "pycharm": {
     "name": "#%%\n"
    }
   },
   "outputs": [],
   "source": [
    "from pydantic import BaseModel, Field\n",
    "\n",
    "\n",
    "class StepsStructuredOutput(BaseModel):\n",
    "    steps: List[str] = Field(description=\"Small digestible steps required to complete the given task\")\n",
    "\n",
    "\n",
    "def convert_to_list(procedure) -> List[str]:\n",
    "    system_prompt = SystemMessage(\"\"\"\n",
    "        You are given an input that contains steps to complete a particular task. You are to take that\n",
    "        input text and convert it to a list of strings.\n",
    "    \"\"\")\n",
    "    user_prompt = HumanMessage(f\"\"\"\n",
    "        Steps: {procedure}\n",
    "    \"\"\")\n",
    "    messages = [system_prompt, user_prompt]\n",
    "    template = ChatPromptTemplate.from_messages(messages)\n",
    "\n",
    "    structured_llm_model = base_llm_model.with_structured_output(StepsStructuredOutput)\n",
    "\n",
    "    chain = template | structured_llm_model\n",
    "    result = chain.invoke({})\n",
    "    return result.steps\n"
   ]
  },
  {
   "cell_type": "code",
   "execution_count": 12,
   "metadata": {
    "collapsed": false,
    "jupyter": {
     "outputs_hidden": false
    },
    "pycharm": {
     "name": "#%%\n"
    }
   },
   "outputs": [],
   "source": [
    "from langchain_core.messages import SystemMessage, HumanMessage\n",
    "from langchain_core.prompts import ChatPromptTemplate\n",
    "\n",
    "\n",
    "def generate_required_steps(state: AgentState):\n",
    "    system_prompt = SystemMessage(\"\"\"\n",
    "        You are a IT assistant. You job is to take the input question and respond with easily digestible\n",
    "        steps required to complete the job\n",
    "    \"\"\")\n",
    "    user_prompt = HumanMessage(f\"\"\"\n",
    "        Query: {state['messages']}\n",
    "    \"\"\")\n",
    "    messages = [system_prompt, user_prompt]\n",
    "    template = ChatPromptTemplate.from_messages(messages)\n",
    "    chain = template | base_llm_model\n",
    "    result = chain.invoke({})\n",
    "    print(result)\n",
    "    returned_steps = convert_to_list(result.content)\n",
    "    print(returned_steps)\n",
    "    return {\"messages\": [result], \"general_procedure\": result.content, \"steps\": returned_steps}\n"
   ]
  },
  {
   "cell_type": "code",
   "execution_count": 13,
   "metadata": {
    "collapsed": false,
    "jupyter": {
     "outputs_hidden": false
    },
    "pycharm": {
     "name": "#%%\n"
    }
   },
   "outputs": [],
   "source": [
    "from langgraph.types import Send\n",
    "\n",
    "\n",
    "def orchestrator(state: AgentState):\n",
    "    return [Send(\"worker\", {\"individual_step\": step}) for step in state['steps']]\n",
    "\n",
    "# def master(state: AgentState):\n",
    "#     return [Send(\"worker\",{\"individual_step\": step}) for step in state['steps'] ]"
   ]
  },
  {
   "cell_type": "code",
   "execution_count": 14,
   "metadata": {
    "collapsed": false,
    "jupyter": {
     "outputs_hidden": false
    },
    "pycharm": {
     "name": "#%%\n"
    }
   },
   "outputs": [
    {
     "data": {
      "text/plain": "[StructuredTool(name='press_start_btn', description='Presses the windows key on keyboard', args_schema=<class 'langchain_core.utils.pydantic.press_start_btn'>, func=<function press_start_btn at 0x0000012E85C7D900>),\n StructuredTool(name='shutdown_laptop', description='Clicks on the shut down button in the start menu', args_schema=<class 'langchain_core.utils.pydantic.shutdown_laptop'>, func=<function shutdown_laptop at 0x0000012E85C7DB40>)]"
     },
     "execution_count": 14,
     "metadata": {},
     "output_type": "execute_result"
    }
   ],
   "source": [
    "import time\n",
    "from langchain_core.tools import tool\n",
    "\n",
    "def file_writer(process:str):\n",
    "    ts = time.time()\n",
    "    with open(\"./debug.log\", \"a\") as f:\n",
    "        f.write(str(ts)+ f\" => {process}\\n\")\n",
    "\n",
    "\n",
    "@tool\n",
    "def press_start_btn():\n",
    "    \"\"\"Presses the windows key on keyboard\"\"\"\n",
    "    print(\"✅#####----Presses the windows key on keyboard---####\")\n",
    "    file_writer(\"press_start_btn\")\n",
    "    return \"Pressed the windows key on keyboard\"\n",
    "\n",
    "\n",
    "@tool\n",
    "def shutdown_laptop():\n",
    "    \"\"\"Clicks on the shut down button in the start menu\"\"\"\n",
    "    print(\"✅#####---Click on the shut down button in the start menu---####\")\n",
    "    file_writer(\"shutdown_laptop\")\n",
    "    return \"Clicked on the shut down button in the start menu\"\n",
    "\n",
    "\n",
    "tools = [press_start_btn, shutdown_laptop]\n",
    "tools"
   ]
  },
  {
   "cell_type": "code",
   "execution_count": 15,
   "metadata": {
    "collapsed": false,
    "jupyter": {
     "outputs_hidden": false
    },
    "pycharm": {
     "name": "#%%\n"
    }
   },
   "outputs": [],
   "source": [
    "\n",
    "class WorkerState(TypedDict):\n",
    "    individual_step: str\n",
    "\n",
    "\n",
    "llm_with_tools = base_llm_model.bind_tools(tools)\n",
    "\n",
    "\n",
    "def worker(worker_state: WorkerState):\n",
    "    result = llm_with_tools.invoke(worker_state['individual_step'])\n",
    "    return {\"messages\": [result]}"
   ]
  },
  {
   "cell_type": "code",
   "execution_count": 16,
   "metadata": {
    "collapsed": false,
    "jupyter": {
     "outputs_hidden": false
    },
    "pycharm": {
     "name": "#%%\n"
    }
   },
   "outputs": [
    {
     "data": {
      "text/plain": "<langgraph.graph.state.CompiledStateGraph object at 0x0000012E85CD8B50>",
      "image/png": "[encoded data removed]"
     },
     "execution_count": 16,
     "metadata": {},
     "output_type": "execute_result"
    }
   ],
   "source": [
    "from langgraph.prebuilt import ToolNode, tools_condition\n",
    "# from langgraph.constants import START\n",
    "from langgraph.graph import StateGraph, START, END\n",
    "\n",
    "graph_builder = StateGraph(AgentState)\n",
    "\n",
    "graph_builder.add_node(\"generate_required_steps\", generate_required_steps)\n",
    "# graph_builder.add_node(\"orchestrator\", orchestrator)\n",
    "graph_builder.add_node(\"tools\", ToolNode(tools))\n",
    "graph_builder.add_node(\"worker\", worker)\n",
    "\n",
    "graph_builder.add_edge(START, \"generate_required_steps\")\n",
    "# graph_builder.add_edge(\"generate_required_steps\", \"worker\")\n",
    "graph_builder.add_conditional_edges(\"generate_required_steps\", orchestrator, [\"worker\"])\n",
    "graph_builder.add_conditional_edges(\"worker\", tools_condition)\n",
    "graph_builder.add_edge(\"tools\", END)\n",
    "\n",
    "graph = graph_builder.compile()\n",
    "graph\n"
   ]
  },
  {
   "cell_type": "code",
   "execution_count": 17,
   "outputs": [
    {
     "name": "stdout",
     "output_type": "stream",
     "text": [
      "content='Here are the easily digestible steps to shut down a Windows laptop:\\n\\n**Step 1: Click on Start button**\\n\\n* Locate the Start button at the bottom left corner of your screen.\\n* Click on it with your mouse.\\n\\n**Step 2: Select Power Options**\\n\\n* From the menu that appears, select \"Power\" or \"Shut Down\".\\n* You can also type \"shutdown\" in the search bar and click on the result to access power options.\\n\\n**Step 3: Confirm Shutdown**\\n\\n* A prompt will appear asking if you\\'re sure you want to shut down your laptop.\\n* Click \"Yes\" or \"OK\" to confirm shutdown.\\n\\n**Alternative Method: Press Windows Key + X**\\n\\n* If you\\'re in a hurry, you can also press the Windows key + X on your keyboard.\\n* This will open a menu with power options. Select \"Shut Down\" or \"Restart\".\\n\\nThat\\'s it! Your laptop should now shut down safely.' additional_kwargs={} response_metadata={'model': 'llama3.1:latest', 'created_at': '2025-06-18T15:34:33.0868032Z', 'done': True, 'done_reason': 'stop', 'total_duration': 50673447400, 'load_duration': 12932603600, 'prompt_eval_count': 95, 'prompt_eval_duration': 3926109500, 'eval_count': 197, 'eval_duration': 33792462800, 'model_name': 'llama3.1:latest'} id='run--6f6e8d10-6949-450f-9209-9f07499e515f-0' usage_metadata={'input_tokens': 95, 'output_tokens': 197, 'total_tokens': 292}\n",
      "['**Step 1: Click on Start button**', '**Step 2: Select Power Options**', '**Step 3: Confirm Shutdown**', '**Alternative Method: Press Windows Key + X**']\n",
      "✅#####----Presses the windows key on keyboard---####\n"
     ]
    },
    {
     "data": {
      "text/plain": "{'messages': [HumanMessage(content='How to shut down a windows laptop', additional_kwargs={}, response_metadata={}, id='e79807b6-f2fc-4214-9960-45a8b50286a3'),\n  AIMessage(content='Here are the easily digestible steps to shut down a Windows laptop:\\n\\n**Step 1: Click on Start button**\\n\\n* Locate the Start button at the bottom left corner of your screen.\\n* Click on it with your mouse.\\n\\n**Step 2: Select Power Options**\\n\\n* From the menu that appears, select \"Power\" or \"Shut Down\".\\n* You can also type \"shutdown\" in the search bar and click on the result to access power options.\\n\\n**Step 3: Confirm Shutdown**\\n\\n* A prompt will appear asking if you\\'re sure you want to shut down your laptop.\\n* Click \"Yes\" or \"OK\" to confirm shutdown.\\n\\n**Alternative Method: Press Windows Key + X**\\n\\n* If you\\'re in a hurry, you can also press the Windows key + X on your keyboard.\\n* This will open a menu with power options. Select \"Shut Down\" or \"Restart\".\\n\\nThat\\'s it! Your laptop should now shut down safely.', additional_kwargs={}, response_metadata={'model': 'llama3.1:latest', 'created_at': '2025-06-18T15:34:33.0868032Z', 'done': True, 'done_reason': 'stop', 'total_duration': 50673447400, 'load_duration': 12932603600, 'prompt_eval_count': 95, 'prompt_eval_duration': 3926109500, 'eval_count': 197, 'eval_duration': 33792462800, 'model_name': 'llama3.1:latest'}, id='run--6f6e8d10-6949-450f-9209-9f07499e515f-0', usage_metadata={'input_tokens': 95, 'output_tokens': 197, 'total_tokens': 292}),\n  AIMessage(content='', additional_kwargs={}, response_metadata={'model': 'llama3.1:latest', 'created_at': '2025-06-18T15:34:58.3737899Z', 'done': True, 'done_reason': 'stop', 'total_duration': 14146128500, 'load_duration': 50893600, 'prompt_eval_count': 200, 'prompt_eval_duration': 731337100, 'eval_count': 14, 'eval_duration': 2195441100, 'model_name': 'llama3.1:latest'}, id='run--75f9f8aa-fcdd-4a32-8525-fe292f1ebcb9-0', tool_calls=[{'name': 'press_start_btn', 'args': {}, 'id': 'a5eedf81-656d-440f-8a65-40cf9a9de2b3', 'type': 'tool_call'}], usage_metadata={'input_tokens': 200, 'output_tokens': 14, 'total_tokens': 214}),\n  AIMessage(content='', additional_kwargs={}, response_metadata={'model': 'llama3.1:latest', 'created_at': '2025-06-18T15:34:55.4441958Z', 'done': True, 'done_reason': 'stop', 'total_duration': 11205744400, 'load_duration': 37223100, 'prompt_eval_count': 199, 'prompt_eval_duration': 670999900, 'eval_count': 14, 'eval_duration': 2185770600, 'model_name': 'llama3.1:latest'}, id='run--0c71ce44-7d05-40c4-be79-931d169ed9ab-0', tool_calls=[{'name': 'press_start_btn', 'args': {}, 'id': '0f7a2bb8-6766-40fe-97cb-5cc29324f5b2', 'type': 'tool_call'}], usage_metadata={'input_tokens': 199, 'output_tokens': 14, 'total_tokens': 213}),\n  AIMessage(content='', additional_kwargs={}, response_metadata={'model': 'llama3.1:latest', 'created_at': '2025-06-18T15:34:52.5869183Z', 'done': True, 'done_reason': 'stop', 'total_duration': 8347937700, 'load_duration': 37761600, 'prompt_eval_count': 198, 'prompt_eval_duration': 739408800, 'eval_count': 14, 'eval_duration': 2117954900, 'model_name': 'llama3.1:latest'}, id='run--bf327cdd-d538-4d1e-8975-4fffa4a453b9-0', tool_calls=[{'name': 'shutdown_laptop', 'args': {}, 'id': '8286f9ce-0ed5-4b70-b902-63ac4e779c70', 'type': 'tool_call'}], usage_metadata={'input_tokens': 198, 'output_tokens': 14, 'total_tokens': 212}),\n  AIMessage(content='', additional_kwargs={}, response_metadata={'model': 'llama3.1:latest', 'created_at': '2025-06-18T15:34:49.728516Z', 'done': True, 'done_reason': 'stop', 'total_duration': 5489005200, 'load_duration': 37231400, 'prompt_eval_count': 200, 'prompt_eval_duration': 3132491700, 'eval_count': 14, 'eval_duration': 2310995400, 'model_name': 'llama3.1:latest'}, id='run--1717c1be-baa2-475a-b08b-4db451d4659f-0', tool_calls=[{'name': 'press_start_btn', 'args': {}, 'id': 'f42da8cb-f44c-4d53-a1d4-95ad4a341a73', 'type': 'tool_call'}], usage_metadata={'input_tokens': 200, 'output_tokens': 14, 'total_tokens': 214}),\n  ToolMessage(content='Pressed the windows key on keyboard', name='press_start_btn', id='ae88f130-86e6-41d9-979d-1c18d2c36dd5', tool_call_id='f42da8cb-f44c-4d53-a1d4-95ad4a341a73')],\n 'general_procedure': 'Here are the easily digestible steps to shut down a Windows laptop:\\n\\n**Step 1: Click on Start button**\\n\\n* Locate the Start button at the bottom left corner of your screen.\\n* Click on it with your mouse.\\n\\n**Step 2: Select Power Options**\\n\\n* From the menu that appears, select \"Power\" or \"Shut Down\".\\n* You can also type \"shutdown\" in the search bar and click on the result to access power options.\\n\\n**Step 3: Confirm Shutdown**\\n\\n* A prompt will appear asking if you\\'re sure you want to shut down your laptop.\\n* Click \"Yes\" or \"OK\" to confirm shutdown.\\n\\n**Alternative Method: Press Windows Key + X**\\n\\n* If you\\'re in a hurry, you can also press the Windows key + X on your keyboard.\\n* This will open a menu with power options. Select \"Shut Down\" or \"Restart\".\\n\\nThat\\'s it! Your laptop should now shut down safely.',\n 'steps': ['**Step 1: Click on Start button**',\n  '**Step 2: Select Power Options**',\n  '**Step 3: Confirm Shutdown**',\n  '**Alternative Method: Press Windows Key + X**']}"
     },
     "execution_count": 17,
     "metadata": {},
     "output_type": "execute_result"
    }
   ],
   "source": [
    "result=graph.invoke({\"messages\":\"How to shut down a windows laptop\"})\n",
    "result"
   ],
   "metadata": {
    "collapsed": false,
    "pycharm": {
     "name": "#%%\n"
    }
   }
  },
  {
   "cell_type": "code",
   "execution_count": 18,
   "outputs": [
    {
     "name": "stdout",
     "output_type": "stream",
     "text": [
      "================================\u001B[1m Human Message \u001B[0m=================================\n",
      "\n",
      "How to shut down a windows laptop\n",
      "==================================\u001B[1m Ai Message \u001B[0m==================================\n",
      "\n",
      "Here are the easily digestible steps to shut down a Windows laptop:\n",
      "\n",
      "**Step 1: Click on Start button**\n",
      "\n",
      "* Locate the Start button at the bottom left corner of your screen.\n",
      "* Click on it with your mouse.\n",
      "\n",
      "**Step 2: Select Power Options**\n",
      "\n",
      "* From the menu that appears, select \"Power\" or \"Shut Down\".\n",
      "* You can also type \"shutdown\" in the search bar and click on the result to access power options.\n",
      "\n",
      "**Step 3: Confirm Shutdown**\n",
      "\n",
      "* A prompt will appear asking if you're sure you want to shut down your laptop.\n",
      "* Click \"Yes\" or \"OK\" to confirm shutdown.\n",
      "\n",
      "**Alternative Method: Press Windows Key + X**\n",
      "\n",
      "* If you're in a hurry, you can also press the Windows key + X on your keyboard.\n",
      "* This will open a menu with power options. Select \"Shut Down\" or \"Restart\".\n",
      "\n",
      "That's it! Your laptop should now shut down safely.\n",
      "==================================\u001B[1m Ai Message \u001B[0m==================================\n",
      "Tool Calls:\n",
      "  press_start_btn (a5eedf81-656d-440f-8a65-40cf9a9de2b3)\n",
      " Call ID: a5eedf81-656d-440f-8a65-40cf9a9de2b3\n",
      "  Args:\n",
      "==================================\u001B[1m Ai Message \u001B[0m==================================\n",
      "Tool Calls:\n",
      "  press_start_btn (0f7a2bb8-6766-40fe-97cb-5cc29324f5b2)\n",
      " Call ID: 0f7a2bb8-6766-40fe-97cb-5cc29324f5b2\n",
      "  Args:\n",
      "==================================\u001B[1m Ai Message \u001B[0m==================================\n",
      "Tool Calls:\n",
      "  shutdown_laptop (8286f9ce-0ed5-4b70-b902-63ac4e779c70)\n",
      " Call ID: 8286f9ce-0ed5-4b70-b902-63ac4e779c70\n",
      "  Args:\n",
      "==================================\u001B[1m Ai Message \u001B[0m==================================\n",
      "Tool Calls:\n",
      "  press_start_btn (f42da8cb-f44c-4d53-a1d4-95ad4a341a73)\n",
      " Call ID: f42da8cb-f44c-4d53-a1d4-95ad4a341a73\n",
      "  Args:\n",
      "=================================\u001B[1m Tool Message \u001B[0m=================================\n",
      "Name: press_start_btn\n",
      "\n",
      "Pressed the windows key on keyboard\n"
     ]
    }
   ],
   "source": [
    "for i in result['messages']:\n",
    "    i.pretty_print()"
   ],
   "metadata": {
    "collapsed": false,
    "pycharm": {
     "name": "#%%\n"
    }
   }
  },
  {
   "cell_type": "code",
   "execution_count": 19,
   "outputs": [
    {
     "data": {
      "text/plain": "<IPython.core.display.Markdown object>",
      "text/markdown": "Here are the easily digestible steps to shut down a Windows laptop:\n\n**Step 1: Click on Start button**\n\n* Locate the Start button at the bottom left corner of your screen.\n* Click on it with your mouse.\n\n**Step 2: Select Power Options**\n\n* From the menu that appears, select \"Power\" or \"Shut Down\".\n* You can also type \"shutdown\" in the search bar and click on the result to access power options.\n\n**Step 3: Confirm Shutdown**\n\n* A prompt will appear asking if you're sure you want to shut down your laptop.\n* Click \"Yes\" or \"OK\" to confirm shutdown.\n\n**Alternative Method: Press Windows Key + X**\n\n* If you're in a hurry, you can also press the Windows key + X on your keyboard.\n* This will open a menu with power options. Select \"Shut Down\" or \"Restart\".\n\nThat's it! Your laptop should now shut down safely."
     },
     "execution_count": 19,
     "metadata": {},
     "output_type": "execute_result"
    }
   ],
   "source": [
    "from IPython.display import Markdown\n",
    "Markdown(result['general_procedure'])"
   ],
   "metadata": {
    "collapsed": false,
    "pycharm": {
     "name": "#%%\n"
    }
   }
  },
  {
   "cell_type": "markdown",
   "metadata": {
    "collapsed": false,
    "jupyter": {
     "outputs_hidden": false
    },
    "pycharm": {
     "name": "#%% md\n"
    }
   },
   "source": []
  }
 ],
 "metadata": {
  "kernelspec": {
   "display_name": "venv",
   "language": "python",
   "name": "venv"
  },
  "language_info": {
   "codemirror_mode": {
    "name": "ipython",
    "version": 3
   },
   "file_extension": ".py",
   "mimetype": "text/x-python",
   "name": "python",
   "nbconvert_exporter": "python",
   "pygments_lexer": "ipython3",
   "version": "3.10.18"
  }
 },
 "nbformat": 4,
 "nbformat_minor": 4
}