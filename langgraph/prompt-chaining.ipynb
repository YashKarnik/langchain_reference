{
 "cells": [
  {
   "cell_type": "code",
   "execution_count": 14,
   "metadata": {
    "collapsed": true,
    "pycharm": {
     "name": "#%%\n"
    }
   },
   "outputs": [],
   "source": [
    "from typing_extensions import TypedDict\n",
    "\n",
    "\n",
    "class State(TypedDict):\n",
    "    title: str\n",
    "    content: str\n",
    "    summarized: str\n",
    "    questions: str"
   ]
  },
  {
   "cell_type": "code",
   "execution_count": 15,
   "outputs": [],
   "source": [
    "from langchain_ollama import ChatOllama\n",
    "\n",
    "llm_model = ChatOllama(model=\"llama3.1:latest\")"
   ],
   "metadata": {
    "collapsed": false,
    "pycharm": {
     "name": "#%%\n"
    }
   }
  },
  {
   "cell_type": "code",
   "execution_count": 16,
   "outputs": [],
   "source": [
    "import random\n",
    "\n",
    "\n",
    "def generate_content(state: State):\n",
    "    content = llm_model.invoke(f\"Generate a 500 word writeup on this topic {state['title']}\").content\n",
    "    return {\"content\": content}\n",
    "\n",
    "\n",
    "def evaluate_writeup(state: State):\n",
    "    return \"PASS\" if random.random() >= 0.5 else \"FAIL\"\n",
    "\n",
    "\n",
    "def summarize_content(state: State):\n",
    "    summarized_content = llm_model.invoke(f\"Summarize this writeup: {state['content']}\").content\n",
    "    return {\"summarized\": summarized_content}\n",
    "\n",
    "\n",
    "def quiz_generator(state: State):\n",
    "    questions = llm_model.invoke(f\"Generate a quiz from: {state['content']}\").content\n",
    "    return {\"questions\": questions}\n",
    "\n"
   ],
   "metadata": {
    "collapsed": false,
    "pycharm": {
     "name": "#%%\n"
    }
   }
  },
  {
   "cell_type": "code",
   "execution_count": 17,
   "outputs": [
    {
     "data": {
      "text/plain": "<langgraph.graph.state.CompiledStateGraph object at 0x000001C8CFB0A5C0>",
      "image/png": "[encoded data removed]"
     },
     "execution_count": 17,
     "metadata": {},
     "output_type": "execute_result"
    }
   ],
   "source": [
    "# from langgraph.constants import START\n",
    "from langgraph.graph import StateGraph, START, END\n",
    "\n",
    "graph_builder = StateGraph(State)\n",
    "\n",
    "# nodes\n",
    "graph_builder.add_node(\"generate_content\", generate_content)\n",
    "graph_builder.add_node(\"summarize_content\", summarize_content)\n",
    "# graph.add_node(\"evaluate_writeup\",evaluate_writeup)\n",
    "graph_builder.add_node(\"quiz_generator\", quiz_generator)\n",
    "\n",
    "#edges\n",
    "\n",
    "graph_builder.add_edge(START, \"generate_content\")\n",
    "graph_builder.add_conditional_edges(\"generate_content\", evaluate_writeup, {\"PASS\": \"summarize_content\", \"FAIL\": END})\n",
    "graph_builder.add_edge(\"summarize_content\", \"quiz_generator\")\n",
    "graph_builder.add_edge(\"quiz_generator\", END)\n",
    "graph = graph_builder.compile()\n",
    "graph\n",
    "\n"
   ],
   "metadata": {
    "collapsed": false,
    "pycharm": {
     "name": "#%%\n"
    }
   }
  },
  {
   "cell_type": "code",
   "execution_count": 18,
   "outputs": [
    {
     "data": {
      "text/plain": "{'title': 'Artificial intelligence',\n 'content': \"**The Rise of Artificial Intelligence: Revolutionizing the World One Algorithm at a Time**\\n\\nArtificial intelligence (AI) has been one of the most exciting and rapidly evolving technologies in recent years. From self-driving cars to virtual assistants, AI is transforming the way we live, work, and interact with each other. In this write-up, we'll delve into the world of AI, exploring its benefits, applications, and future prospects.\\n\\n**What is Artificial Intelligence?**\\n\\nArtificial intelligence refers to the development of computer systems that can perform tasks that typically require human intelligence, such as learning, problem-solving, decision-making, and perception. These systems use algorithms and data to analyze situations, make predictions, and take actions, often with a level of accuracy and speed unmatched by humans.\\n\\n**Types of Artificial Intelligence**\\n\\nThere are several types of AI, each with its own unique characteristics:\\n\\n1. **Narrow or Weak AI**: Designed to perform specific tasks, such as image recognition, language translation, or playing games.\\n2. **General or Strong AI**: Aims to create a machine that can reason and learn like a human, capable of solving complex problems in multiple domains.\\n3. **Superintelligence**: Far surpasses human intelligence, potentially leading to an exponential growth in technological advancements.\\n\\n**Applications of Artificial Intelligence**\\n\\nAI is transforming various industries and aspects of our lives:\\n\\n1. **Healthcare**: AI-assisted diagnosis, personalized medicine, and patient engagement are revolutionizing healthcare delivery.\\n2. **Transportation**: Self-driving cars, trucks, and drones are improving road safety, reducing congestion, and increasing efficiency.\\n3. **Customer Service**: Virtual assistants like Siri, Alexa, and Google Assistant are enhancing customer experience with 24/7 support.\\n4. **Education**: AI-powered adaptive learning platforms are tailoring educational content to individual students' needs.\\n5. **Security**: AI-driven security systems are detecting threats in real-time, protecting against cyber-attacks and data breaches.\\n\\n**Benefits of Artificial Intelligence**\\n\\nThe benefits of AI are numerous:\\n\\n1. **Increased Efficiency**: Automating routine tasks frees up human resources for more strategic activities.\\n2. **Improved Accuracy**: AI can analyze vast amounts of data quickly and accurately, reducing errors and improving decision-making.\\n3. **Enhanced Customer Experience**: Personalized services and tailored recommendations lead to increased customer satisfaction.\\n4. **Competitive Advantage**: Companies leveraging AI can stay ahead of the competition.\\n\\n**Challenges and Concerns**\\n\\nWhile AI holds tremendous promise, there are concerns about:\\n\\n1. **Job Displacement**: Automation may displace certain jobs, requiring new skills and training programs.\\n2. **Bias and Fairness**: AI systems can perpetuate existing biases if trained on biased data or designed with flawed algorithms.\\n3. **Security Risks**: AI-powered attacks and cyber threats pose a significant risk to individuals and organizations.\\n\\n**Future Prospects**\\n\\nAs AI continues to advance, we can expect:\\n\\n1. **Increased Adoption**: More industries and applications will leverage AI for innovation and growth.\\n2. **Advancements in Human-AI Collaboration**: Developing seamless interactions between humans and machines will improve productivity and outcomes.\\n3. **Addressing Challenges**: Researchers and developers will work on mitigating job displacement, bias, and security risks associated with AI.\\n\\nIn conclusion, artificial intelligence is transforming the world at an unprecedented pace. As we navigate this technological revolution, it's essential to acknowledge both the benefits and challenges of AI. By understanding its applications, implications, and future prospects, we can harness the potential of AI to create a brighter, more efficient future for all.\",\n 'summarized': \"The write-up discusses the rise of Artificial Intelligence (AI) and its impact on various industries and aspects of our lives. Here's a summary:\\n\\n**What is AI?**\\n\\nArtificial intelligence refers to computer systems that can perform tasks typically requiring human intelligence, such as learning, problem-solving, decision-making, and perception.\\n\\n**Types of AI:**\\n\\n1. **Narrow or Weak AI**: Designed for specific tasks.\\n2. **General or Strong AI**: Aims to create a machine that can reason and learn like a human.\\n3. **Superintelligence**: Far surpasses human intelligence.\\n\\n**Applications of AI:**\\n\\nAI is transforming industries such as:\\n\\n* Healthcare (diagnosis, personalized medicine)\\n* Transportation (self-driving cars, drones)\\n* Customer Service (virtual assistants)\\n* Education (adaptive learning platforms)\\n* Security (real-time threat detection)\\n\\n**Benefits of AI:**\\n\\n1. **Increased Efficiency**\\n2. **Improved Accuracy**\\n3. **Enhanced Customer Experience**\\n4. **Competitive Advantage**\\n\\n**Challenges and Concerns:**\\n\\n1. **Job Displacement**: Automation may displace certain jobs.\\n2. **Bias and Fairness**: AI systems can perpetuate existing biases.\\n3. **Security Risks**: AI-powered attacks and cyber threats.\\n\\n**Future Prospects:**\\n\\nAs AI continues to advance, we can expect:\\n\\n1. **Increased Adoption**\\n2. **Advancements in Human-AI Collaboration**\\n3. **Addressing Challenges**: Researchers will work on mitigating job displacement, bias, and security risks.\\n\\nOverall, the write-up highlights the transformative power of AI and encourages readers to acknowledge both its benefits and challenges as we navigate this technological revolution.\",\n 'questions': \"Here's a quiz based on the article:\\n\\n**The Rise of Artificial Intelligence: Revolutionizing the World One Algorithm at a Time**\\n\\n**Quiz: Test Your Knowledge about Artificial Intelligence**\\n\\n**1. What is Artificial Intelligence (AI)?**\\na) A machine that can perform tasks that require human intelligence\\nb) A software program that automates routine tasks\\nc) A type of programming language used for coding\\nd) A technique used in data analysis\\n\\nAnswer: a) A machine that can perform tasks that require human intelligence\\n\\n**2. What is the main difference between Narrow or Weak AI and General or Strong AI?**\\na) Narrow or Weak AI is designed to solve complex problems, while General or Strong AI is designed for specific tasks\\nb) Narrow or Weak AI is designed for specific tasks, while General or Strong AI aims to create a machine that can reason and learn like a human\\nc) Narrow or Weak AI is faster than General or Strong AI\\nd) Narrow or Weak AI uses more data than General or Strong AI\\n\\nAnswer: b) Narrow or Weak AI is designed for specific tasks, while General or Strong AI aims to create a machine that can reason and learn like a human\\n\\n**3. Which of the following industries has been revolutionized by AI?**\\na) Healthcare\\nb) Finance\\nc) Entertainment\\nd) All of the above\\n\\nAnswer: d) All of the above (Healthcare, Transportation, Customer Service, Education, and Security have all been impacted by AI)\\n\\n**4. What is one of the benefits of using Artificial Intelligence in a company?**\\na) Increased efficiency\\nb) Improved accuracy\\nc) Enhanced customer experience\\nd) All of the above\\n\\nAnswer: d) All of the above (AI can automate routine tasks, reduce errors, and improve decision-making while also enhancing customer satisfaction)\\n\\n**5. What is one of the challenges associated with Artificial Intelligence?**\\na) Job displacement\\nb) Bias and fairness\\nc) Security risks\\nd) All of the above\\n\\nAnswer: d) All of the above (AI can displace certain jobs, perpetuate existing biases if not designed properly, and pose a risk to security)\\n\\n**6. What is expected to happen in the future as Artificial Intelligence continues to advance?**\\na) Increased adoption across industries\\nb) Advancements in human-AI collaboration\\nc) Addressing challenges associated with AI\\nd) All of the above\\n\\nAnswer: d) All of the above (AI will be adopted by more industries, humans and machines will work together more seamlessly, and researchers will address the challenges associated with AI)\\n\\nLet me know if you'd like me to add more questions or make any changes!\"}"
     },
     "execution_count": 18,
     "metadata": {},
     "output_type": "execute_result"
    }
   ],
   "source": [
    "results = graph.invoke({\"title\":\"Artificial intelligence\"})\n",
    "results"
   ],
   "metadata": {
    "collapsed": false,
    "pycharm": {
     "name": "#%%\n"
    }
   }
  },
  {
   "cell_type": "code",
   "execution_count": null,
   "outputs": [],
   "source": [],
   "metadata": {
    "collapsed": false,
    "pycharm": {
     "name": "#%%\n"
    }
   }
  }
 ],
 "metadata": {
  "kernelspec": {
   "display_name": "Python 3",
   "language": "python",
   "name": "python3"
  },
  "language_info": {
   "codemirror_mode": {
    "name": "ipython",
    "version": 2
   },
   "file_extension": ".py",
   "mimetype": "text/x-python",
   "name": "python",
   "nbconvert_exporter": "python",
   "pygments_lexer": "ipython2",
   "version": "2.7.6"
  }
 },
 "nbformat": 4,
 "nbformat_minor": 0
}